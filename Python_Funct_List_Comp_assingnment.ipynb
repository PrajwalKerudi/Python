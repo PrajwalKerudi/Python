{
  "nbformat": 4,
  "nbformat_minor": 0,
  "metadata": {
    "colab": {
      "provenance": [],
      "authorship_tag": "ABX9TyPCqwk9soP9Gj/+IaqTEEMf",
      "include_colab_link": true
    },
    "kernelspec": {
      "name": "python3",
      "display_name": "Python 3"
    },
    "language_info": {
      "name": "python"
    }
  },
  "cells": [
    {
      "cell_type": "markdown",
      "metadata": {
        "id": "view-in-github",
        "colab_type": "text"
      },
      "source": [
        "<a href=\"https://colab.research.google.com/github/PrajwalKerudi/Python/blob/main/Python_Funct_List_Comp_assingnment.ipynb\" target=\"_parent\"><img src=\"https://colab.research.google.com/assets/colab-badge.svg\" alt=\"Open In Colab\"/></a>"
      ]
    },
    {
      "cell_type": "markdown",
      "source": [
        "Basic Function Concepts (Single Return Values)"
      ],
      "metadata": {
        "id": "GUPGa027jiwr"
      }
    },
    {
      "cell_type": "code",
      "source": [
        "#1.\tWrite a function wish(name) that returns \"Hello, Good Morning <name>!\".\n",
        "\n",
        "def wish(name):\n",
        "    return f\"Hello, Good Morning {name}!\"\n",
        "\n",
        "print(wish(\"Prajwal\"))\n"
      ],
      "metadata": {
        "colab": {
          "base_uri": "https://localhost:8080/"
        },
        "id": "-myYa5JCjlyX",
        "outputId": "2d4c771b-ea53-466e-dd8b-cc5813be58ab"
      },
      "execution_count": 1,
      "outputs": [
        {
          "output_type": "stream",
          "name": "stdout",
          "text": [
            "Hello, Good Morning Prajwal!\n"
          ]
        }
      ]
    },
    {
      "cell_type": "code",
      "source": [
        "#2.\tWrite a function cube(n) that returns the cube of a number (n³).\n",
        "\n",
        "def cube(n):\n",
        "    return n ** 3\n",
        "\n",
        "print(cube(4))"
      ],
      "metadata": {
        "colab": {
          "base_uri": "https://localhost:8080/"
        },
        "id": "rv_FwNO4j0xS",
        "outputId": "254735da-62f8-4f65-c215-7771d03940df"
      },
      "execution_count": 2,
      "outputs": [
        {
          "output_type": "stream",
          "name": "stdout",
          "text": [
            "64\n"
          ]
        }
      ]
    },
    {
      "cell_type": "code",
      "source": [
        "#3.\tWrite a function check_even(n) that returns True if the number is even, else False\n",
        "\n",
        "def check_even(n):\n",
        "    return n % 2 == 0\n",
        "\n",
        "print(check_even(10))\n",
        "print(check_even(7))"
      ],
      "metadata": {
        "colab": {
          "base_uri": "https://localhost:8080/"
        },
        "id": "WUM5RtFykDAC",
        "outputId": "0fe4aa84-8d9e-4e45-c5ec-18868f42c8b4"
      },
      "execution_count": 3,
      "outputs": [
        {
          "output_type": "stream",
          "name": "stdout",
          "text": [
            "True\n",
            "False\n"
          ]
        }
      ]
    },
    {
      "cell_type": "code",
      "source": [
        "#4.\tWrite a function greatest_of_two(a, b) that returns the larger of two numbers\n",
        "\n",
        "def greatest_of_two(a, b):\n",
        "    if a > b:\n",
        "        return a\n",
        "    else:\n",
        "        return b\n",
        "\n",
        "print(greatest_of_two(10, 20))\n",
        "print(greatest_of_two(50, 30))\n"
      ],
      "metadata": {
        "colab": {
          "base_uri": "https://localhost:8080/"
        },
        "id": "AThFKg7pkRfK",
        "outputId": "125f805e-8325-44af-85a5-2d2f63a32d5c"
      },
      "execution_count": 4,
      "outputs": [
        {
          "output_type": "stream",
          "name": "stdout",
          "text": [
            "20\n",
            "50\n"
          ]
        }
      ]
    },
    {
      "cell_type": "code",
      "source": [
        "#5.\tWrite a function count_letters(s) that returns the number of characters in a string\n",
        "\n",
        "def count_letters(s):\n",
        "    return len(s)\n",
        "\n",
        "print(count_letters(\"Prajwal\"))\n",
        "print(count_letters(\"Hello, World!\"))"
      ],
      "metadata": {
        "colab": {
          "base_uri": "https://localhost:8080/"
        },
        "id": "EdqOysQPkbTk",
        "outputId": "9b808b24-1f99-42e1-bc0d-474604a16d18"
      },
      "execution_count": 5,
      "outputs": [
        {
          "output_type": "stream",
          "name": "stdout",
          "text": [
            "7\n",
            "13\n"
          ]
        }
      ]
    },
    {
      "cell_type": "code",
      "source": [
        "#6.\tWrite a function power(value, exp=2) that returns the number raised to the power exp. (Default exponent = 2)\n",
        "\n",
        "def power(value, exp=2):\n",
        "    return value ** exp\n",
        "\n",
        "print(power(5))\n",
        "print(power(3, 3))\n",
        "print(power(2, 4))"
      ],
      "metadata": {
        "colab": {
          "base_uri": "https://localhost:8080/"
        },
        "id": "BHheZcmLkl51",
        "outputId": "1b03d8a5-61d8-4933-8007-3c4f524e6a58"
      },
      "execution_count": 6,
      "outputs": [
        {
          "output_type": "stream",
          "name": "stdout",
          "text": [
            "25\n",
            "27\n",
            "16\n"
          ]
        }
      ]
    },
    {
      "cell_type": "markdown",
      "source": [
        "Returning Multiple Values"
      ],
      "metadata": {
        "id": "whsz_xd2k2sy"
      }
    },
    {
      "cell_type": "code",
      "source": [
        "#7.\tWrite a function swap(a, b) that returns the two values swapped as a tuple\n",
        "\n",
        "def swap(a, b):\n",
        "    return b, a\n",
        "\n",
        "x, y = swap(10, 20)\n",
        "print(x, y)"
      ],
      "metadata": {
        "colab": {
          "base_uri": "https://localhost:8080/"
        },
        "id": "is5a_NJykzdD",
        "outputId": "56b4a4c7-c843-460f-b338-05b7a7dbdde6"
      },
      "execution_count": 7,
      "outputs": [
        {
          "output_type": "stream",
          "name": "stdout",
          "text": [
            "20 10\n"
          ]
        }
      ]
    },
    {
      "cell_type": "code",
      "source": [
        "#8.\tWrite a function add_sub(a, b) that returns both sum and difference of two numbers\n",
        "\n",
        "def add_sub(a, b):\n",
        "    return a + b, a - b\n",
        "\n",
        "sum_result, diff_result = add_sub(10, 5)\n",
        "print(\"Sum:\", sum_result)\n",
        "print(\"Difference:\", diff_result)\n"
      ],
      "metadata": {
        "colab": {
          "base_uri": "https://localhost:8080/"
        },
        "id": "Ivn1p0LTlHfx",
        "outputId": "b4863c01-4927-43bb-98fa-ca250f8481a9"
      },
      "execution_count": 8,
      "outputs": [
        {
          "output_type": "stream",
          "name": "stdout",
          "text": [
            "Sum: 15\n",
            "Difference: 5\n"
          ]
        }
      ]
    },
    {
      "cell_type": "code",
      "source": [
        "#9.\tWrite a function circle_stats(radius) that returns the area and circumference as a tuple.\n",
        "\n",
        "import math\n",
        "\n",
        "def circle_stats(radius):\n",
        "    area = math.pi * radius ** 2\n",
        "    circumference = 2 * math.pi * radius\n",
        "    return area, circumference\n",
        "\n",
        "area_result, circ_result = circle_stats(5)\n",
        "print(\"Area:\", area_result)\n",
        "print(\"Circumference:\", circ_result)"
      ],
      "metadata": {
        "colab": {
          "base_uri": "https://localhost:8080/"
        },
        "id": "KKFZqFFhlSuy",
        "outputId": "8e7eead1-6068-43cb-fec1-77838a97129f"
      },
      "execution_count": 9,
      "outputs": [
        {
          "output_type": "stream",
          "name": "stdout",
          "text": [
            "Area: 78.53981633974483\n",
            "Circumference: 31.41592653589793\n"
          ]
        }
      ]
    },
    {
      "cell_type": "code",
      "source": [
        "#10.\tWrite a function min_max_sum(nums) that returns the minimum, maximum, and sum of a list.\n",
        "\n",
        "def min_max_sum(nums):\n",
        "    return min(nums), max(nums), sum(nums)\n",
        "\n",
        "numbers = [10, 5, 8, 20, 3]\n",
        "minimum, maximum, total = min_max_sum(numbers)\n",
        "print(\"Minimum:\", minimum)\n",
        "print(\"Maximum:\", maximum)\n",
        "print(\"Sum:\", total)"
      ],
      "metadata": {
        "colab": {
          "base_uri": "https://localhost:8080/"
        },
        "id": "ukLrY2ECldpS",
        "outputId": "0a0fad12-b9b3-41f2-a0cd-1fb5e5ff5a95"
      },
      "execution_count": 10,
      "outputs": [
        {
          "output_type": "stream",
          "name": "stdout",
          "text": [
            "Minimum: 3\n",
            "Maximum: 20\n",
            "Sum: 46\n"
          ]
        }
      ]
    },
    {
      "cell_type": "markdown",
      "source": [
        "Working with Strings & Formatting"
      ],
      "metadata": {
        "id": "tNjTXsenlsLN"
      }
    },
    {
      "cell_type": "code",
      "source": [
        "#11.\tWrite a function concat(*parts) that joins multiple strings together with spaces.\n",
        "\n",
        "def concat(*parts):\n",
        "    return \" \".join(parts)\n",
        "\n",
        "result = concat(\"Hello\", \"Good\", \"Morning\", \"Prajwal\")\n",
        "print(result)"
      ],
      "metadata": {
        "colab": {
          "base_uri": "https://localhost:8080/"
        },
        "id": "IAIMfgLalpuq",
        "outputId": "c77399b9-8748-42d5-b5ed-293a57066cc8"
      },
      "execution_count": 11,
      "outputs": [
        {
          "output_type": "stream",
          "name": "stdout",
          "text": [
            "Hello Good Morning Prajwal\n"
          ]
        }
      ]
    },
    {
      "cell_type": "code",
      "source": [
        "#12.\tWrite a function format_name(first, last=\"\") that returns \"Last, First\" if last name is provided, else \"First\".\n",
        "\n",
        "def format_name(first, last=\"\"):\n",
        "    if last:\n",
        "        return f\"{last}, {first}\"\n",
        "    else:\n",
        "        return first\n",
        "\n",
        "print(format_name(\"Prajwal\", \"Kerudi\"))\n",
        "print(format_name(\"Prajwal\"))\n"
      ],
      "metadata": {
        "colab": {
          "base_uri": "https://localhost:8080/"
        },
        "id": "sBPEvYV3l2dI",
        "outputId": "6e5a59f4-d293-4571-e3bb-899b30e9cd9b"
      },
      "execution_count": 12,
      "outputs": [
        {
          "output_type": "stream",
          "name": "stdout",
          "text": [
            "Kerudi, Prajwal\n",
            "Prajwal\n"
          ]
        }
      ]
    },
    {
      "cell_type": "code",
      "source": [
        "#13.\tWrite a function greet_user(first, last) that returns a message like \"Welcome, First Last!\".\n",
        "\n",
        "def greet_user(first, last):\n",
        "    return f\"Welcome, {first} {last}!\"\n",
        "\n",
        "print(greet_user(\"Prajwal\", \"Kerudi\"))\n"
      ],
      "metadata": {
        "colab": {
          "base_uri": "https://localhost:8080/"
        },
        "id": "dz4hXXLFmFLS",
        "outputId": "e1636a3f-c87a-4d23-bd25-096c62e91aa6"
      },
      "execution_count": 13,
      "outputs": [
        {
          "output_type": "stream",
          "name": "stdout",
          "text": [
            "Welcome, Prajwal Kerudi!\n"
          ]
        }
      ]
    },
    {
      "cell_type": "markdown",
      "source": [
        "Lambda Functions"
      ],
      "metadata": {
        "id": "D-GJx2xYmYON"
      }
    },
    {
      "cell_type": "code",
      "source": [
        "#14.\tWrite a lambda function to add two numbers.\n",
        "\n",
        "add = lambda x, y: x + y\n",
        "\n",
        "print(add(5, 3))\n",
        "print(add(10, 20))"
      ],
      "metadata": {
        "colab": {
          "base_uri": "https://localhost:8080/"
        },
        "id": "xq4FjBIQmVLy",
        "outputId": "c31908a1-1e8f-495e-b2d5-6138949aa3a2"
      },
      "execution_count": 14,
      "outputs": [
        {
          "output_type": "stream",
          "name": "stdout",
          "text": [
            "8\n",
            "30\n"
          ]
        }
      ]
    },
    {
      "cell_type": "code",
      "source": [
        "#15.\tWrite a lambda function mult = lambda *args: that returns the product of all arguments\n",
        "\n",
        "from functools import reduce\n",
        "import operator\n",
        "\n",
        "mult = lambda *args: reduce(operator.mul, args, 1)\n",
        "\n",
        "print(mult(2, 3, 4))\n",
        "print(mult(5, 10))\n",
        "print(mult())\n"
      ],
      "metadata": {
        "colab": {
          "base_uri": "https://localhost:8080/"
        },
        "id": "zsLOZTi8mkqc",
        "outputId": "47307486-1f95-4844-96df-cf5262bf779c"
      },
      "execution_count": 15,
      "outputs": [
        {
          "output_type": "stream",
          "name": "stdout",
          "text": [
            "24\n",
            "50\n",
            "1\n"
          ]
        }
      ]
    },
    {
      "cell_type": "code",
      "source": [
        "#16.\tWrite a one-line lambda expression to flatten a list of pairs like [(a,b), (c,d)] into [a, b, c, d].\n",
        "\n",
        "flatten = lambda lst: [x for pair in lst for x in pair]\n",
        "\n",
        "pairs = [(1, 2), (3, 4), (5, 6)]\n",
        "print(flatten(pairs))\n"
      ],
      "metadata": {
        "colab": {
          "base_uri": "https://localhost:8080/"
        },
        "id": "dhjYoTP8m4Ip",
        "outputId": "3dd72a86-1b55-491b-be30-b31c3ca771e0"
      },
      "execution_count": 16,
      "outputs": [
        {
          "output_type": "stream",
          "name": "stdout",
          "text": [
            "[1, 2, 3, 4, 5, 6]\n"
          ]
        }
      ]
    },
    {
      "cell_type": "markdown",
      "source": [
        "Recursive, Higher-Order & Inner Functions"
      ],
      "metadata": {
        "id": "a6CDZ3ZbnI6T"
      }
    },
    {
      "cell_type": "code",
      "source": [
        "#17.\tWrite a recursive function factorial(n) that returns the factorial of a number.\n",
        "\n",
        "def factorial(n):\n",
        "    if n == 0 or n == 1:\n",
        "        return 1\n",
        "    else:\n",
        "        return n * factorial(n - 1)\n",
        "\n",
        "print(factorial(5))\n",
        "print(factorial(0))\n"
      ],
      "metadata": {
        "colab": {
          "base_uri": "https://localhost:8080/"
        },
        "id": "EQwFiKfHnEEH",
        "outputId": "70d88077-9178-400d-b9b6-0c9a9ac68b8c"
      },
      "execution_count": 17,
      "outputs": [
        {
          "output_type": "stream",
          "name": "stdout",
          "text": [
            "120\n",
            "1\n"
          ]
        }
      ]
    },
    {
      "cell_type": "code",
      "source": [
        "#18.\tWrite a function apply_twice(func, x) that applies a function twice → func(func(x)).\n",
        "\n",
        "def apply_twice(func, x):\n",
        "    return func(func(x))\n",
        "\n",
        "def add_five(n):\n",
        "    return n + 5\n",
        "\n",
        "result = apply_twice(add_five, 10)\n",
        "print(result)"
      ],
      "metadata": {
        "colab": {
          "base_uri": "https://localhost:8080/"
        },
        "id": "324hgsMCnZhC",
        "outputId": "7b910788-ac0b-45c6-e150-c166c1c93589"
      },
      "execution_count": 18,
      "outputs": [
        {
          "output_type": "stream",
          "name": "stdout",
          "text": [
            "20\n"
          ]
        }
      ]
    },
    {
      "cell_type": "code",
      "source": [
        "#19.\tWrite a function inner_demo() that defines and calls an inner function inside it.\n",
        "\n",
        "def inner_demo():\n",
        "    def inner_function():\n",
        "        print(\"This is the inner function!\")\n",
        "\n",
        "    inner_function()\n",
        "    print(\"This is the outer function!\")\n",
        "\n",
        "inner_demo()\n"
      ],
      "metadata": {
        "colab": {
          "base_uri": "https://localhost:8080/"
        },
        "id": "i8kMRL7_nhij",
        "outputId": "db882cc7-dadd-470f-86a2-e3efb2e0bc7d"
      },
      "execution_count": 19,
      "outputs": [
        {
          "output_type": "stream",
          "name": "stdout",
          "text": [
            "This is the inner function!\n",
            "This is the outer function!\n"
          ]
        }
      ]
    },
    {
      "cell_type": "code",
      "source": [
        "#20.\tWrite a function call_function(func, value) that takes another function as a parameter and applies it\n",
        "\n",
        "def call_function(func, value):\n",
        "    return func(value)\n",
        "\n",
        "def square(n):\n",
        "    return n ** 2\n",
        "\n",
        "result = call_function(square, 5)\n",
        "print(result)\n",
        "\n",
        "result2 = call_function(lambda x: x + 10, 7)\n",
        "print(result2)"
      ],
      "metadata": {
        "colab": {
          "base_uri": "https://localhost:8080/"
        },
        "id": "d60k62n_nvg2",
        "outputId": "3ebdf1f7-9d24-46d3-a5c8-32249ab4ed45"
      },
      "execution_count": 20,
      "outputs": [
        {
          "output_type": "stream",
          "name": "stdout",
          "text": [
            "25\n",
            "17\n"
          ]
        }
      ]
    },
    {
      "cell_type": "code",
      "source": [
        "#21.\tWrite a function square_list(nums) that defines a helper function square(x) inside it and returns a list of squares\n",
        "\n",
        "def square_list(nums):\n",
        "\n",
        "    def square(x):\n",
        "        return x ** 2\n",
        "\n",
        "    return [square(n) for n in nums]\n",
        "\n",
        "numbers = [1, 2, 3, 4, 5]\n",
        "squares = square_list(numbers)\n",
        "print(squares)"
      ],
      "metadata": {
        "colab": {
          "base_uri": "https://localhost:8080/"
        },
        "id": "CBCk443joAHv",
        "outputId": "85742d49-8a6d-48ff-c67a-3deda862b599"
      },
      "execution_count": 21,
      "outputs": [
        {
          "output_type": "stream",
          "name": "stdout",
          "text": [
            "[1, 4, 9, 16, 25]\n"
          ]
        }
      ]
    },
    {
      "cell_type": "markdown",
      "source": [
        "Intermediate Function Concepts"
      ],
      "metadata": {
        "id": "9N1xps33oTQC"
      }
    },
    {
      "cell_type": "code",
      "source": [
        "#22.\tWrite a function make_multiplier(m) that returns a new function which multiplies input values by m.\n",
        "\n",
        "def make_multiplier(m):\n",
        "    def multiplier(x):\n",
        "        return x * m\n",
        "    return multiplier\n",
        "\n",
        "times3 = make_multiplier(3)\n",
        "times5 = make_multiplier(5)\n",
        "print(times3(10))\n",
        "print(times5(4))\n"
      ],
      "metadata": {
        "colab": {
          "base_uri": "https://localhost:8080/"
        },
        "id": "qey70og5oP9d",
        "outputId": "ab3fed11-aee3-4544-dcf9-d692000bb899"
      },
      "execution_count": 22,
      "outputs": [
        {
          "output_type": "stream",
          "name": "stdout",
          "text": [
            "30\n",
            "20\n"
          ]
        }
      ]
    },
    {
      "cell_type": "code",
      "source": [
        "#23.\tWrite a function filter_primes(nums) that filters prime numbers using a helper is_prime() function.\n",
        "\n",
        "def filter_primes(nums):\n",
        "\n",
        "    def is_prime(n):\n",
        "        if n < 2:\n",
        "            return False\n",
        "        for i in range(2, int(n**0.5) + 1):\n",
        "            if n % i == 0:\n",
        "                return False\n",
        "        return True\n",
        "\n",
        "    return [num for num in nums if is_prime(num)]\n",
        "\n",
        "numbers = [2, 3, 4, 5, 6, 7, 8, 9, 10, 11]\n",
        "primes = filter_primes(numbers)\n",
        "print(primes)"
      ],
      "metadata": {
        "colab": {
          "base_uri": "https://localhost:8080/"
        },
        "id": "ukjeLjmJojy7",
        "outputId": "b31f2075-6c7b-4b60-b6de-44cc8b24f82b"
      },
      "execution_count": 23,
      "outputs": [
        {
          "output_type": "stream",
          "name": "stdout",
          "text": [
            "[2, 3, 5, 7, 11]\n"
          ]
        }
      ]
    },
    {
      "cell_type": "code",
      "source": [
        "#24.\tWrite a function convert_to_fahrenheit(celsius_list) using map and a lambda.\n",
        "#Formula: F = C * 9/5 + 32\n",
        "\n",
        "def convert_to_fahrenheit(celsius_list):\n",
        "    return list(map(lambda c: c * 9/5 + 32, celsius_list))\n",
        "\n",
        "celsius_temps = [0, 20, 37, 100]\n",
        "fahrenheit_temps = convert_to_fahrenheit(celsius_temps)\n",
        "print(fahrenheit_temps)"
      ],
      "metadata": {
        "colab": {
          "base_uri": "https://localhost:8080/"
        },
        "id": "Zkn37NH5o3XQ",
        "outputId": "96b69d39-f41c-49de-8730-d316b2732a3d"
      },
      "execution_count": 24,
      "outputs": [
        {
          "output_type": "stream",
          "name": "stdout",
          "text": [
            "[32.0, 68.0, 98.6, 212.0]\n"
          ]
        }
      ]
    },
    {
      "cell_type": "code",
      "source": [
        "#25.\tWrite a function apply_if(func, predicate, iterable) that applies a function only to items that pass a condition.\n",
        "\n",
        "def apply_if(func, predicate, iterable):\n",
        "    return [func(x) for x in iterable if predicate(x)]\n",
        "\n",
        "numbers = [1, 2, 3, 4, 5, 6]\n",
        "\n",
        "result = apply_if(lambda x: x**2, lambda x: x % 2 == 0, numbers)\n",
        "print(result)\n",
        "\n",
        "result2 = apply_if(lambda x: x + 10, lambda x: x > 3, numbers)\n",
        "print(result2)"
      ],
      "metadata": {
        "colab": {
          "base_uri": "https://localhost:8080/"
        },
        "id": "5M-CkJqapMi_",
        "outputId": "884cc171-d6d0-4137-ff00-9de53b6daf91"
      },
      "execution_count": 25,
      "outputs": [
        {
          "output_type": "stream",
          "name": "stdout",
          "text": [
            "[4, 16, 36]\n",
            "[14, 15, 16]\n"
          ]
        }
      ]
    },
    {
      "cell_type": "code",
      "source": [
        "#26.\tWrite a function curry(func) that converts a two-argument function into a curried version → can be called as f(a)(b).\n",
        "\n",
        "def curry(func):\n",
        "    return lambda a: lambda b: func(a, b)\n",
        "\n",
        "def add(x, y):\n",
        "    return x + y\n",
        "\n",
        "curried_add = curry(add)\n",
        "print(curried_add(5)(10))\n",
        "\n",
        "def multiply(x, y):\n",
        "    return x * y\n",
        "\n",
        "curried_multiply = curry(multiply)\n",
        "print(curried_multiply(3)(4))\n"
      ],
      "metadata": {
        "colab": {
          "base_uri": "https://localhost:8080/"
        },
        "id": "8ueK8sobpb1n",
        "outputId": "1fada8ff-c64a-4b3e-bef5-565da3017851"
      },
      "execution_count": 26,
      "outputs": [
        {
          "output_type": "stream",
          "name": "stdout",
          "text": [
            "15\n",
            "12\n"
          ]
        }
      ]
    },
    {
      "cell_type": "code",
      "source": [
        "#27.\tWrite a function variadic_sum(*args, **kwargs) that sums all positional arguments and multiplies by a scale factor if provided.\n",
        "\n",
        "def variadic_sum(*args, **kwargs):\n",
        "    total = sum(args)\n",
        "    scale = kwargs.get(\"scale\", 1)\n",
        "    return total * scale\n",
        "\n",
        "print(variadic_sum(1, 2, 3))\n",
        "print(variadic_sum(1, 2, 3, scale=2))\n",
        "print(variadic_sum(4, 5, 6, scale=0.5))"
      ],
      "metadata": {
        "colab": {
          "base_uri": "https://localhost:8080/"
        },
        "id": "299dPn3Wpldm",
        "outputId": "1dfd081a-7d39-4b61-a2c7-1fbc174b6ddb"
      },
      "execution_count": 27,
      "outputs": [
        {
          "output_type": "stream",
          "name": "stdout",
          "text": [
            "6\n",
            "12\n",
            "7.5\n"
          ]
        }
      ]
    },
    {
      "cell_type": "code",
      "source": [
        "#28.\tWrite a function sort_by_length(strings) that sorts a list of strings by their length using a lambda as key.\n",
        "\n",
        "def sort_by_length(strings):\n",
        "    return sorted(strings, key=lambda s: len(s))\n",
        "\n",
        "words = [\"apple\", \"banana\", \"kiwi\", \"cherry\", \"fig\"]\n",
        "sorted_words = sort_by_length(words)\n",
        "print(sorted_words)"
      ],
      "metadata": {
        "colab": {
          "base_uri": "https://localhost:8080/"
        },
        "id": "hszNoFHspxtb",
        "outputId": "5f828803-34b2-4426-f7b4-031e53e69cde"
      },
      "execution_count": 28,
      "outputs": [
        {
          "output_type": "stream",
          "name": "stdout",
          "text": [
            "['fig', 'kiwi', 'apple', 'banana', 'cherry']\n"
          ]
        }
      ]
    },
    {
      "cell_type": "markdown",
      "source": [
        "List Comprehensions"
      ],
      "metadata": {
        "id": "_YkjC8Z5p-Xz"
      }
    },
    {
      "cell_type": "code",
      "source": [
        "#29.\tCreate [1,2,3,4] → list of their squares.\n",
        "\n",
        "numbers = [1, 2, 3, 4]\n",
        "squares = [n**2 for n in numbers]\n",
        "print(squares)\n"
      ],
      "metadata": {
        "colab": {
          "base_uri": "https://localhost:8080/"
        },
        "id": "js2VnXBgp769",
        "outputId": "37c9da78-2272-458c-aadd-b8172cf4200f"
      },
      "execution_count": 35,
      "outputs": [
        {
          "output_type": "stream",
          "name": "stdout",
          "text": [
            "[1, 4, 9, 16]\n"
          ]
        }
      ]
    },
    {
      "cell_type": "code",
      "source": [
        "#30.\tCreate ['a','b','c'] → list of their uppercase versions.\n",
        "\n",
        "letters = ['a', 'b', 'c']\n",
        "uppercase_letters = [ch.upper() for ch in letters]\n",
        "print(uppercase_letters)\n"
      ],
      "metadata": {
        "colab": {
          "base_uri": "https://localhost:8080/"
        },
        "id": "XLhq-77ZqTi9",
        "outputId": "d93e7531-f181-4504-ed61-e4b38311f001"
      },
      "execution_count": 36,
      "outputs": [
        {
          "output_type": "stream",
          "name": "stdout",
          "text": [
            "['A', 'B', 'C']\n"
          ]
        }
      ]
    },
    {
      "cell_type": "code",
      "source": [
        "#31.\tMake a list of even numbers from 1 to 20.\n",
        "\n",
        "even_numbers = [n for n in range(1, 21) if n % 2 == 0]\n",
        "print(even_numbers)\n"
      ],
      "metadata": {
        "colab": {
          "base_uri": "https://localhost:8080/"
        },
        "id": "7VLD-0ZeqiQ4",
        "outputId": "146daff2-9a27-4e31-fdc2-c213b6bf4ece"
      },
      "execution_count": 37,
      "outputs": [
        {
          "output_type": "stream",
          "name": "stdout",
          "text": [
            "[2, 4, 6, 8, 10, 12, 14, 16, 18, 20]\n"
          ]
        }
      ]
    },
    {
      "cell_type": "code",
      "source": [
        "#32.\tGiven words = ['apple', 'bee', 'cat'], create [(word, len(word)) for word in words].\n",
        "\n",
        "words = ['apple', 'bee', 'cat']\n",
        "word_lengths = [(word, len(word)) for word in words]\n",
        "print(word_lengths)"
      ],
      "metadata": {
        "colab": {
          "base_uri": "https://localhost:8080/"
        },
        "id": "X8hPEAQvqq3A",
        "outputId": "7d334e87-591a-4b70-bb3d-b7b1f3717c05"
      },
      "execution_count": 38,
      "outputs": [
        {
          "output_type": "stream",
          "name": "stdout",
          "text": [
            "[('apple', 5), ('bee', 3), ('cat', 3)]\n"
          ]
        }
      ]
    },
    {
      "cell_type": "code",
      "source": [
        "#33.\tFlatten [[1,2], [3,4], [5]] → [1,2,3,4,5].\n",
        "\n",
        "nested_list = [[1, 2], [3, 4], [5]]\n",
        "flat_list = [item for sublist in nested_list for item in sublist]\n",
        "print(flat_list)"
      ],
      "metadata": {
        "colab": {
          "base_uri": "https://localhost:8080/"
        },
        "id": "7EFY7BKOqyAv",
        "outputId": "aa8e372c-5fbe-421d-ffc8-9a132416f73c"
      },
      "execution_count": 40,
      "outputs": [
        {
          "output_type": "stream",
          "name": "stdout",
          "text": [
            "[1, 2, 3, 4, 5]\n"
          ]
        }
      ]
    },
    {
      "cell_type": "code",
      "source": [
        "#34.\tFrom nums = [0,1,2,3], create a list of 'even' or 'odd' strings.\n",
        "\n",
        "nums = [0, 1, 2, 3]\n",
        "even_odd = ['even' if n % 2 == 0 else 'odd' for n in nums]\n",
        "print(even_odd)"
      ],
      "metadata": {
        "colab": {
          "base_uri": "https://localhost:8080/"
        },
        "id": "qfnTuUzeq0QB",
        "outputId": "6eb15870-cf1f-4d11-d3cc-5c85ec0e8175"
      },
      "execution_count": 41,
      "outputs": [
        {
          "output_type": "stream",
          "name": "stdout",
          "text": [
            "['even', 'odd', 'even', 'odd']\n"
          ]
        }
      ]
    },
    {
      "cell_type": "code",
      "source": [
        "#35.\tUsing a comprehension, make a list of booleans showing if numbers in a list are prime (use helper function).\n",
        "\n",
        "def is_prime(n):\n",
        "    if n < 2:\n",
        "        return False\n",
        "    for i in range(2, int(n**0.5) + 1):\n",
        "        if n % i == 0:\n",
        "            return False\n",
        "    return True\n",
        "\n",
        "numbers = [0, 1, 2, 3, 4, 5, 6, 7]\n",
        "prime_flags = [is_prime(n) for n in numbers]\n",
        "print(prime_flags)"
      ],
      "metadata": {
        "colab": {
          "base_uri": "https://localhost:8080/"
        },
        "id": "Ah5eAoMxrDVE",
        "outputId": "02da781f-c9c5-4b6d-a32c-aa486899e566"
      },
      "execution_count": 42,
      "outputs": [
        {
          "output_type": "stream",
          "name": "stdout",
          "text": [
            "[False, False, True, True, False, True, False, True]\n"
          ]
        }
      ]
    },
    {
      "cell_type": "code",
      "source": [
        "#36.\tFrom range(1,50), select numbers divisible by both 2 and 3.\n",
        "\n",
        "numbers = [n for n in range(1, 50) if n % 2 == 0 and n % 3 == 0]\n",
        "print(numbers)"
      ],
      "metadata": {
        "colab": {
          "base_uri": "https://localhost:8080/"
        },
        "id": "NQbGHqLJrL13",
        "outputId": "b9ff2309-b46b-47ce-a99b-76ab8fd67f10"
      },
      "execution_count": 43,
      "outputs": [
        {
          "output_type": "stream",
          "name": "stdout",
          "text": [
            "[6, 12, 18, 24, 30, 36, 42, 48]\n"
          ]
        }
      ]
    },
    {
      "cell_type": "code",
      "source": [
        "#37.\tCreate coordinate pairs (i, j) where i and j go from 0 to 2.\n",
        "\n",
        "coordinates = [(i, j) for i in range(3) for j in range(3)]\n",
        "print(coordinates)\n"
      ],
      "metadata": {
        "colab": {
          "base_uri": "https://localhost:8080/"
        },
        "id": "lC8nVj4drUyW",
        "outputId": "bd750c4e-9226-4dd7-e8d4-8f2535bbe76e"
      },
      "execution_count": 44,
      "outputs": [
        {
          "output_type": "stream",
          "name": "stdout",
          "text": [
            "[(0, 0), (0, 1), (0, 2), (1, 0), (1, 1), (1, 2), (2, 0), (2, 1), (2, 2)]\n"
          ]
        }
      ]
    },
    {
      "cell_type": "code",
      "source": [
        "#38.\tFrom ['a b','c d e'], produce a flat list of all words.\n",
        "\n",
        "strings = ['a b', 'c d e']\n",
        "words = [word for s in strings for word in s.split()]\n",
        "print(words)\n"
      ],
      "metadata": {
        "colab": {
          "base_uri": "https://localhost:8080/"
        },
        "id": "bUWQ0EfHrc_l",
        "outputId": "faaee54a-87c7-4e17-8814-75572fd446b9"
      },
      "execution_count": 45,
      "outputs": [
        {
          "output_type": "stream",
          "name": "stdout",
          "text": [
            "['a', 'b', 'c', 'd', 'e']\n"
          ]
        }
      ]
    },
    {
      "cell_type": "markdown",
      "source": [
        "Using Lists of Dictionaries"
      ],
      "metadata": {
        "id": "4xqfrK0brsF_"
      }
    },
    {
      "cell_type": "code",
      "source": [
        "#39.\tGiven students = [{'name':'A','score':80}, {'name':'B','score':60}], Create a list of names of students with score ≥ 75.\n",
        "\n",
        "students = [{'name':'A','score':80}, {'name':'B','score':60}]\n",
        "high_scorers = [student['name'] for student in students if student['score'] >= 75]\n",
        "print(high_scorers)\n"
      ],
      "metadata": {
        "colab": {
          "base_uri": "https://localhost:8080/"
        },
        "id": "z84u3h-5rpYW",
        "outputId": "1128b4ce-c6c8-4328-e3de-0dac7dccbbc1"
      },
      "execution_count": 46,
      "outputs": [
        {
          "output_type": "stream",
          "name": "stdout",
          "text": [
            "['A']\n"
          ]
        }
      ]
    },
    {
      "cell_type": "code",
      "source": [
        "#40.\tBuild a list of dictionaries like {'n': n, 'square': n*n} for numbers 1 to 10.\n",
        "\n",
        "numbers = [{'n': n, 'square': n*n} for n in range(1, 11)]\n",
        "print(numbers)\n"
      ],
      "metadata": {
        "colab": {
          "base_uri": "https://localhost:8080/"
        },
        "id": "qUgQIWsLr2fF",
        "outputId": "6bd38ad5-7ba6-4f15-b529-c0b33a9ffc20"
      },
      "execution_count": 47,
      "outputs": [
        {
          "output_type": "stream",
          "name": "stdout",
          "text": [
            "[{'n': 1, 'square': 1}, {'n': 2, 'square': 4}, {'n': 3, 'square': 9}, {'n': 4, 'square': 16}, {'n': 5, 'square': 25}, {'n': 6, 'square': 36}, {'n': 7, 'square': 49}, {'n': 8, 'square': 64}, {'n': 9, 'square': 81}, {'n': 10, 'square': 100}]\n"
          ]
        }
      ]
    },
    {
      "cell_type": "code",
      "source": [
        "#41.\tMerge two lists element-wise into tuples, but include only pairs where both elements are truthy\n",
        "\n",
        "list1 = [1, 0, 3, 4]\n",
        "list2 = [5, 6, 0, 8]\n",
        "\n",
        "merged = [(a, b) for a, b in zip(list1, list2) if a and b]\n",
        "print(merged)"
      ],
      "metadata": {
        "colab": {
          "base_uri": "https://localhost:8080/"
        },
        "id": "kFDYWknBsABk",
        "outputId": "8f999a43-e66d-4774-ac18-18edec9f78cf"
      },
      "execution_count": 48,
      "outputs": [
        {
          "output_type": "stream",
          "name": "stdout",
          "text": [
            "[(1, 5), (4, 8)]\n"
          ]
        }
      ]
    },
    {
      "cell_type": "code",
      "source": [
        "#42.\tCreate a comprehension to transpose a matrix (swap rows ↔ columns).\n",
        "\n",
        "matrix = [\n",
        "    [1, 2, 3],\n",
        "    [4, 5, 6],\n",
        "    [7, 8, 9]\n",
        "]\n",
        "\n",
        "transposed = [[row[i] for row in matrix] for i in range(len(matrix[0]))]\n",
        "print(transposed)\n"
      ],
      "metadata": {
        "colab": {
          "base_uri": "https://localhost:8080/"
        },
        "id": "IT_hqs8ksKPx",
        "outputId": "0b96d07d-2908-4a46-900e-f789e769e511"
      },
      "execution_count": 49,
      "outputs": [
        {
          "output_type": "stream",
          "name": "stdout",
          "text": [
            "[[1, 4, 7], [2, 5, 8], [3, 6, 9]]\n"
          ]
        }
      ]
    },
    {
      "cell_type": "markdown",
      "source": [
        "Advanced Comprehensions"
      ],
      "metadata": {
        "id": "BHe_DsVJsWR1"
      }
    },
    {
      "cell_type": "code",
      "source": [
        "#43.\tFlatten a 3-level nested list [[[1,2],[3]],[[4]]] into a single flat list.\n",
        "\n",
        "nested_list = [[[1, 2], [3]], [[4]]]\n",
        "flat_list = [item for sublist1 in nested_list for sublist2 in sublist1 for item in sublist2]\n",
        "print(flat_list)"
      ],
      "metadata": {
        "colab": {
          "base_uri": "https://localhost:8080/"
        },
        "id": "U4GkgF4JsRTK",
        "outputId": "0a6a05d7-df31-47a4-edd3-7af62da7d0da"
      },
      "execution_count": 50,
      "outputs": [
        {
          "output_type": "stream",
          "name": "stdout",
          "text": [
            "[1, 2, 3, 4]\n"
          ]
        }
      ]
    },
    {
      "cell_type": "code",
      "source": [
        "#44.\tWrite a comprehension that keeps only unique items from a list while preserving order.\n",
        "\n",
        "items = [1, 2, 2, 3, 4, 1, 5]\n",
        "seen = set()\n",
        "unique_items = [x for x in items if not (x in seen or seen.add(x))]\n",
        "print(unique_items)\n"
      ],
      "metadata": {
        "colab": {
          "base_uri": "https://localhost:8080/"
        },
        "id": "IWcVej05sngq",
        "outputId": "ebfcd224-c5d7-4c32-d287-1eb6bb57cfc4"
      },
      "execution_count": 51,
      "outputs": [
        {
          "output_type": "stream",
          "name": "stdout",
          "text": [
            "[1, 2, 3, 4, 5]\n"
          ]
        }
      ]
    },
    {
      "cell_type": "code",
      "source": [
        "#45.\tFind all indices (positions) where a given number appears in a list.\n",
        "\n",
        "numbers = [1, 2, 3, 2, 4, 2, 5]\n",
        "target = 2\n",
        "\n",
        "indices = [i for i, num in enumerate(numbers) if num == target]\n",
        "print(indices)"
      ],
      "metadata": {
        "colab": {
          "base_uri": "https://localhost:8080/"
        },
        "id": "2GgwDOatsypR",
        "outputId": "07df2b93-db10-4e98-b245-ed412e5e0c7f"
      },
      "execution_count": 52,
      "outputs": [
        {
          "output_type": "stream",
          "name": "stdout",
          "text": [
            "[1, 3, 5]\n"
          ]
        }
      ]
    },
    {
      "cell_type": "code",
      "source": [
        "#46.\tGenerate all palindromic numbers (as strings) between 1 and 999.\n",
        "\n",
        "palindromes = [str(n) for n in range(1, 1000) if str(n) == str(n)[::-1]]\n",
        "print(palindromes)\n"
      ],
      "metadata": {
        "colab": {
          "base_uri": "https://localhost:8080/"
        },
        "id": "rsCqoj8hs59b",
        "outputId": "7510a093-7872-4d08-9970-9800886766d1"
      },
      "execution_count": 53,
      "outputs": [
        {
          "output_type": "stream",
          "name": "stdout",
          "text": [
            "['1', '2', '3', '4', '5', '6', '7', '8', '9', '11', '22', '33', '44', '55', '66', '77', '88', '99', '101', '111', '121', '131', '141', '151', '161', '171', '181', '191', '202', '212', '222', '232', '242', '252', '262', '272', '282', '292', '303', '313', '323', '333', '343', '353', '363', '373', '383', '393', '404', '414', '424', '434', '444', '454', '464', '474', '484', '494', '505', '515', '525', '535', '545', '555', '565', '575', '585', '595', '606', '616', '626', '636', '646', '656', '666', '676', '686', '696', '707', '717', '727', '737', '747', '757', '767', '777', '787', '797', '808', '818', '828', '838', '848', '858', '868', '878', '888', '898', '909', '919', '929', '939', '949', '959', '969', '979', '989', '999']\n"
          ]
        }
      ]
    },
    {
      "cell_type": "code",
      "source": [
        "#47.\tConvert a dictionary like {'a':[1,2], 'b':[3]} into a list of (key, value) pairs\n",
        "\n",
        "d = {'a': [1, 2], 'b': [3]}\n",
        "pairs = [(key, value) for key, values in d.items() for value in values]\n",
        "print(pairs)"
      ],
      "metadata": {
        "colab": {
          "base_uri": "https://localhost:8080/"
        },
        "id": "2cBzuVzMtBKP",
        "outputId": "be52cd24-4e8e-4af3-cd84-4849f71e9c01"
      },
      "execution_count": 54,
      "outputs": [
        {
          "output_type": "stream",
          "name": "stdout",
          "text": [
            "[('a', 1), ('a', 2), ('b', 3)]\n"
          ]
        }
      ]
    },
    {
      "cell_type": "code",
      "source": [
        "#48.\tCreate a list of prime pairs (p, q) where both are primes under 100 and p + q is also prime\n",
        "\n",
        "def is_prime(n):\n",
        "    if n < 2:\n",
        "        return False\n",
        "    for i in range(2, int(n**0.5) + 1):\n",
        "        if n % i == 0:\n",
        "            return False\n",
        "    return True\n",
        "\n",
        "primes = [p for p in range(2, 100) if is_prime(p)]\n",
        "\n",
        "prime_pairs = [(p, q) for p in primes for q in primes if is_prime(p + q)]\n",
        "print(prime_pairs)\n"
      ],
      "metadata": {
        "colab": {
          "base_uri": "https://localhost:8080/"
        },
        "id": "CA9SGAEHtKgH",
        "outputId": "2dda1ef4-19d0-4b09-9b7c-03c961d6301d"
      },
      "execution_count": 55,
      "outputs": [
        {
          "output_type": "stream",
          "name": "stdout",
          "text": [
            "[(2, 3), (2, 5), (2, 11), (2, 17), (2, 29), (2, 41), (2, 59), (2, 71), (3, 2), (5, 2), (11, 2), (17, 2), (29, 2), (41, 2), (59, 2), (71, 2)]\n"
          ]
        }
      ]
    },
    {
      "cell_type": "code",
      "source": [
        "#49.\tCreate a lower-triangular matrix (n×n) with 1s below and on the diagonal, 0s above.\n",
        "\n",
        "n = 4\n",
        "\n",
        "lower_triangular = [[1 if j <= i else 0 for j in range(n)] for i in range(n)]\n",
        "for row in lower_triangular:\n",
        "    print(row)\n"
      ],
      "metadata": {
        "colab": {
          "base_uri": "https://localhost:8080/"
        },
        "id": "4tXY4mZItTYP",
        "outputId": "061df439-6a1c-421e-ede9-a4ae45a8905a"
      },
      "execution_count": 56,
      "outputs": [
        {
          "output_type": "stream",
          "name": "stdout",
          "text": [
            "[1, 0, 0, 0]\n",
            "[1, 1, 0, 0]\n",
            "[1, 1, 1, 0]\n",
            "[1, 1, 1, 1]\n"
          ]
        }
      ]
    },
    {
      "cell_type": "code",
      "source": [
        "#50.\tGenerate all possible sequences of length 4 from 'abcd' with no repeated letters.\n",
        "\n",
        "from itertools import permutations\n",
        "\n",
        "chars = 'abcd'\n",
        "sequences = [''.join(p) for p in permutations(chars, 4)]\n",
        "print(sequences)\n"
      ],
      "metadata": {
        "colab": {
          "base_uri": "https://localhost:8080/"
        },
        "id": "YNZDooL8tcb1",
        "outputId": "7cf2749c-b658-47f0-b7c9-77b84f5bd0a0"
      },
      "execution_count": 57,
      "outputs": [
        {
          "output_type": "stream",
          "name": "stdout",
          "text": [
            "['abcd', 'abdc', 'acbd', 'acdb', 'adbc', 'adcb', 'bacd', 'badc', 'bcad', 'bcda', 'bdac', 'bdca', 'cabd', 'cadb', 'cbad', 'cbda', 'cdab', 'cdba', 'dabc', 'dacb', 'dbac', 'dbca', 'dcab', 'dcba']\n"
          ]
        }
      ]
    },
    {
      "cell_type": "code",
      "source": [],
      "metadata": {
        "id": "I4fawYB4tk3F"
      },
      "execution_count": null,
      "outputs": []
    }
  ]
}