{
  "cells": [
    {
      "cell_type": "markdown",
      "metadata": {
        "id": "view-in-github",
        "colab_type": "text"
      },
      "source": [
        "<a href=\"https://colab.research.google.com/github/PrajwalKerudi/Python/blob/main/Python_assignments.ipynb\" target=\"_parent\"><img src=\"https://colab.research.google.com/assets/colab-badge.svg\" alt=\"Open In Colab\"/></a>"
      ]
    },
    {
      "cell_type": "markdown",
      "metadata": {
        "id": "Z2NOe5pDVtr0"
      },
      "source": [
        "Basic Syntax & IO"
      ]
    },
    {
      "cell_type": "code",
      "execution_count": null,
      "metadata": {
        "colab": {
          "base_uri": "https://localhost:8080/"
        },
        "id": "CtoQkXRykivs",
        "outputId": "abcb7411-de1c-45cf-a488-e5c375d619c7"
      },
      "outputs": [
        {
          "name": "stdout",
          "output_type": "stream",
          "text": [
            "Hello, World!\n"
          ]
        }
      ],
      "source": [
        "print(\"Hello, World!\")"
      ]
    },
    {
      "cell_type": "code",
      "execution_count": null,
      "metadata": {
        "colab": {
          "base_uri": "https://localhost:8080/"
        },
        "id": "j7_ELhAzk5iR",
        "outputId": "9720627b-370f-4c6f-d75f-4208e4f549f0"
      },
      "outputs": [
        {
          "name": "stdout",
          "output_type": "stream",
          "text": [
            "Enter your name: Prajs\n",
            "Hello, Prajs!\n"
          ]
        }
      ],
      "source": [
        "#Take user input and print it\n",
        "\n",
        "name = input(\"Enter your name: \")\n",
        "print(\"Hello, \" + name + \"!\")"
      ]
    },
    {
      "cell_type": "code",
      "execution_count": null,
      "metadata": {
        "colab": {
          "base_uri": "https://localhost:8080/"
        },
        "id": "ERkgMQ_hlSvE",
        "outputId": "d16128c8-bc08-49f0-c893-ac11a3bb1a6d"
      },
      "outputs": [
        {
          "name": "stdout",
          "output_type": "stream",
          "text": [
            "Enter value of a: 2\n",
            "Enter value of b: 1\n",
            "after swapping: \n",
            "a:  1\n",
            "b:  2\n"
          ]
        }
      ],
      "source": [
        "# Swap two variables\n",
        "\n",
        "a = input(\"Enter value of a: \")\n",
        "b = input(\"Enter value of b: \")\n",
        "\n",
        "a, b = b, a\n",
        "print(\"after swapping: \")\n",
        "print(\"a: \", a)\n",
        "print(\"b: \", b)"
      ]
    },
    {
      "cell_type": "code",
      "execution_count": null,
      "metadata": {
        "colab": {
          "base_uri": "https://localhost:8080/"
        },
        "id": "8h_Q2Awxmirm",
        "outputId": "2b0aacf7-6b32-4b38-d628-dd3bea5bbbf5"
      },
      "outputs": [
        {
          "name": "stdout",
          "output_type": "stream",
          "text": [
            "Enter a number: 6\n",
            "6 is even\n"
          ]
        }
      ],
      "source": [
        "#Check if a number is even or odd\n",
        "num = int(input(\"Enter a number: \"))\n",
        "\n",
        "if num % 2 == 0:\n",
        "  print(num, \"is even\")\n",
        "else:\n",
        "  print(num, \"is odd\")"
      ]
    },
    {
      "cell_type": "code",
      "execution_count": null,
      "metadata": {
        "colab": {
          "base_uri": "https://localhost:8080/"
        },
        "id": "x-I0-on_npE9",
        "outputId": "58525402-1f6e-49b3-a702-5984d7aaeb70"
      },
      "outputs": [
        {
          "name": "stdout",
          "output_type": "stream",
          "text": [
            "Enetr first number (a): 12\n",
            "Enter second number (b): 13\n",
            "The largest number is:  13\n"
          ]
        }
      ],
      "source": [
        "#Find the largest of two numbers\n",
        "\n",
        "a  = int(input(\"Enetr first number (a): \"))\n",
        "b = int(input(\"Enter second number (b): \"))\n",
        "\n",
        "if a > b:\n",
        "  print(\"The largest number is: \", a)\n",
        "elif b > a:\n",
        "  print(\"The largest number is: \", b)\n",
        "else:\n",
        "  print(\"Both are equal\")"
      ]
    },
    {
      "cell_type": "markdown",
      "metadata": {
        "id": "WTCEVyfCpsjN"
      },
      "source": [
        " Operators\n"
      ]
    },
    {
      "cell_type": "code",
      "execution_count": null,
      "metadata": {
        "colab": {
          "base_uri": "https://localhost:8080/"
        },
        "id": "jza_idMHpuGg",
        "outputId": "5b36d52f-ab74-4c1f-dec2-121368696502"
      },
      "outputs": [
        {
          "name": "stdout",
          "output_type": "stream",
          "text": [
            "Enter first number (a): 54\n",
            "Enter second number (b): 45\n",
            "Addition:  99.0\n",
            "Subtraction:  9.0\n",
            "Multiplication:  2430.0\n",
            "Division:  1.2\n",
            "Modulus:  9.0\n",
            "Exponetiation:  False\n"
          ]
        }
      ],
      "source": [
        "# Perform arithmetic operations (+, -, *, /, %, **), take any values as “a” and “b”\n",
        "\n",
        "a = float(input(\"Enter first number (a): \"))\n",
        "b = float(input(\"Enter second number (b): \"))\n",
        "\n",
        "print(\"Addition: \", a + b)\n",
        "print(\"Subtraction: \", a - b)\n",
        "print(\"Multiplication: \", a * b)\n",
        "print(\"Division: \", a / b)\n",
        "print(\"Modulus: \", a % b)\n",
        "print(\"Exponetiation: \", a == b)"
      ]
    },
    {
      "cell_type": "code",
      "execution_count": null,
      "metadata": {
        "colab": {
          "base_uri": "https://localhost:8080/"
        },
        "id": "xrsv1yKdolq8",
        "outputId": "f43b0e7d-4b3c-45f8-e8cb-c17ebf093cf7"
      },
      "outputs": [
        {
          "name": "stdout",
          "output_type": "stream",
          "text": [
            "Enter a number: 6\n",
            "Square 36.0\n",
            "Cube 216.0\n"
          ]
        }
      ],
      "source": [
        "# Calculate the square and cube of a number\n",
        "\n",
        "num = float(input(\"Enter a number: \"))\n",
        "\n",
        "print(\"Square\", num ** 2)\n",
        "print(\"Cube\", num ** 3)\n"
      ]
    },
    {
      "cell_type": "code",
      "execution_count": null,
      "metadata": {
        "colab": {
          "base_uri": "https://localhost:8080/"
        },
        "id": "yF_2RTRCrV8H",
        "outputId": "0c3be7a6-08b5-4f19-ef2d-9a6874f461f6"
      },
      "outputs": [
        {
          "output_type": "stream",
          "name": "stdout",
          "text": [
            "Enter temperature as celcius: 25\n",
            "temperature in fahren 77.0\n"
          ]
        }
      ],
      "source": [
        "# Convert Celsius to Fahrenheit (F = (C * 9/5) + 32)\n",
        "\n",
        "num = float(input(\"Enter temperature as celcius: \"))\n",
        "\n",
        "fahrenheit = (num * 9/5) + 32\n",
        "\n",
        "print(\"temperature in fahren\", fahrenheit)"
      ]
    },
    {
      "cell_type": "code",
      "execution_count": null,
      "metadata": {
        "id": "w0Zpb3HVsEt0",
        "colab": {
          "base_uri": "https://localhost:8080/"
        },
        "outputId": "338b2f66-29b5-470b-8943-44c882cb8589"
      },
      "outputs": [
        {
          "output_type": "stream",
          "name": "stdout",
          "text": [
            "Enter distance in kilometers: 10\n",
            "distance in miles:  6.21371\n"
          ]
        }
      ],
      "source": [
        "# Convert kilometers to miles (1 km = 0.621371 miles)\n",
        "\n",
        "km = float(input(\"Enter distance in kilometers: \"))\n",
        "\n",
        "miles = km * 0.621371\n",
        "\n",
        "print(\"distance in miles: \", miles)"
      ]
    },
    {
      "cell_type": "code",
      "source": [
        "#Check if a number is positive, negative, or zero\n",
        "\n",
        "num = float(input(\"Enter a number: \"))\n",
        "\n",
        "if num > 0:\n",
        "  print(\"The number is positive.\")\n",
        "elif num < 0:\n",
        "  print(\"The number is negative. \")\n",
        "else:\n",
        "  print(\"The number is zero\")"
      ],
      "metadata": {
        "colab": {
          "base_uri": "https://localhost:8080/"
        },
        "id": "7TJVm1I8m4cD",
        "outputId": "2eb38651-9334-41be-c77e-9e1fc850aeff"
      },
      "execution_count": null,
      "outputs": [
        {
          "output_type": "stream",
          "name": "stdout",
          "text": [
            "Enter a number: 6\n",
            "The number is positive.\n"
          ]
        }
      ]
    },
    {
      "cell_type": "markdown",
      "source": [
        "Conditional Statements"
      ],
      "metadata": {
        "id": "4405Og-ink5B"
      }
    },
    {
      "cell_type": "code",
      "source": [
        "#Find the largest of three numbers\n",
        "\n",
        "a = int(input(\"Enter first number (a): \"))\n",
        "b = int(input(\"Enter second number (b): \"))\n",
        "c = int(input(\"Enter thrird number (c): \"))\n",
        "\n",
        "if a>b and a>c:\n",
        "  print(\"the largest number is: \", a)\n",
        "elif b>a and b>c:\n",
        "  print(\"the largest number is: \", b)\n",
        "else:\n",
        "  print(\"the largest number is: \",c)"
      ],
      "metadata": {
        "colab": {
          "base_uri": "https://localhost:8080/"
        },
        "id": "IqIIDqK7nZGU",
        "outputId": "595027a9-8055-4387-fe4e-2125082ea1cb"
      },
      "execution_count": null,
      "outputs": [
        {
          "output_type": "stream",
          "name": "stdout",
          "text": [
            "Enter first number (a): 3\n",
            "Enter second number (b): 9\n",
            "Enter thrird number (c): 6\n",
            "the largest number is:  9\n"
          ]
        }
      ]
    },
    {
      "cell_type": "code",
      "source": [
        "#Check if a year is a leap year. A leap year is a year that is divisible by 4, but if it is a\n",
        " # ,century year (divisible by 100), it must also be divisible by 400 to be a leap year.\n",
        "\n",
        "year = int(input(\"Enter a year: \"))\n",
        "\n",
        "if (year % 4 == 0):\n",
        "  if (year % 100 == 0):\n",
        "    if (year % 400 == 0):\n",
        "      print(year, \"is a leap year. \")\n",
        "    else:\n",
        "      print(year, \"is not a leap year. \")\n",
        "  else:\n",
        "    print(year, \"is a leap year. \")\n",
        "else:\n",
        "  print(year, \"is not a leap year. \")\n"
      ],
      "metadata": {
        "colab": {
          "base_uri": "https://localhost:8080/"
        },
        "id": "2m6yhVunoOww",
        "outputId": "1f360871-b169-413b-8d7a-ad52a7cb8b79"
      },
      "execution_count": null,
      "outputs": [
        {
          "output_type": "stream",
          "name": "stdout",
          "text": [
            "Enter a year: 2003\n",
            "2003 is not a leap year. \n"
          ]
        }
      ]
    },
    {
      "cell_type": "code",
      "source": [
        "#Check if a character is a vowel or consonant\n",
        "\n",
        "ch = input(\"Enter an alphabet: \").lower()\n",
        "\n",
        "if ch.isalpha():\n",
        "  if ch in ['a', 'e', 'i', 'o', 'u']:\n",
        "    print(ch, \"is a vowel\")\n",
        "  else:\n",
        "    print(ch, \"is a consonant\")\n",
        "else:\n",
        "  print(\"Invalid input! Please enter an alphabet\")\n",
        "\n",
        "\n"
      ],
      "metadata": {
        "colab": {
          "base_uri": "https://localhost:8080/"
        },
        "id": "P1bBfpLLpfWl",
        "outputId": "0959a178-601e-43ee-f31a-bd512dc86fb4"
      },
      "execution_count": null,
      "outputs": [
        {
          "output_type": "stream",
          "name": "stdout",
          "text": [
            "Enter an alphabet: o\n",
            "o is a vowel\n"
          ]
        }
      ]
    },
    {
      "cell_type": "code",
      "source": [
        "# Write a Python program to assign the grades to each subject based on the grade\n",
        "\n",
        "Maths = 85\n",
        "Science = 78\n",
        "English = 92\n",
        "\n",
        "def get_grade(marks):\n",
        "  if 90<= marks <=100:\n",
        "    return 'A'\n",
        "  elif 80<= marks <=89:\n",
        "    return 'B'\n",
        "  elif 70<= marks <=79:\n",
        "    return 'C'\n",
        "  elif 60<= marks <=69:\n",
        "    return 'D'\n",
        "  elif 50<= marks <=59:\n",
        "    return 'E'\n",
        "  else:\n",
        "    return 'F'\n",
        "\n",
        "print(\"Maths: \", get_grade(Maths))\n",
        "print(\"Science: \", get_grade(Science))\n",
        "print(\"English: \", get_grade(English))\n",
        "\n"
      ],
      "metadata": {
        "colab": {
          "base_uri": "https://localhost:8080/"
        },
        "id": "30dyDkxZrPsL",
        "outputId": "2a0587f4-812b-47ad-9e11-583afc27627b"
      },
      "execution_count": null,
      "outputs": [
        {
          "output_type": "stream",
          "name": "stdout",
          "text": [
            "Maths:  B\n",
            "Science:  C\n",
            "English:  A\n"
          ]
        }
      ]
    },
    {
      "cell_type": "code",
      "source": [
        "#Write a program to check if a number is divisible by both 5 and 11\n",
        "\n",
        "num = int(input(\"Enter a number: \"))\n",
        "\n",
        "if num % 5 == 0 and num % 11 == 0:\n",
        "  print(num, \"is divisible by both 5 and 11\")\n",
        "else:\n",
        "  print(num, \"is not divisible by both 5 and 11\")\n",
        "\n"
      ],
      "metadata": {
        "colab": {
          "base_uri": "https://localhost:8080/"
        },
        "id": "VuHsAY4UvnRf",
        "outputId": "b4b7c0af-3642-4702-f724-b9cbdee5ac00"
      },
      "execution_count": null,
      "outputs": [
        {
          "output_type": "stream",
          "name": "stdout",
          "text": [
            "Enter a number: 55\n",
            "55 is divisible by both 5 and 11\n"
          ]
        }
      ]
    },
    {
      "cell_type": "markdown",
      "source": [
        "Loops"
      ],
      "metadata": {
        "id": "KsTKzn3Nw33n"
      }
    },
    {
      "cell_type": "code",
      "source": [
        "#Print numbers from 1 to the given number N\n",
        "\n",
        "N = int(input(\"Enter a number: \"))\n",
        "\n",
        "print(\"Numbers from 1 to\", N, \":\")\n",
        "for i in range(1, N + 1):\n",
        "    print(i)\n"
      ],
      "metadata": {
        "colab": {
          "base_uri": "https://localhost:8080/"
        },
        "id": "d2Sk_MJQw5b9",
        "outputId": "9df7d4bf-0aa4-4575-8bc1-60dbba87b587"
      },
      "execution_count": null,
      "outputs": [
        {
          "output_type": "stream",
          "name": "stdout",
          "text": [
            "Enter a number: 5\n",
            "Numbers from 1 to 5 :\n",
            "1\n",
            "2\n",
            "3\n",
            "4\n",
            "5\n"
          ]
        }
      ]
    },
    {
      "cell_type": "code",
      "source": [
        "#Print even numbers up to the given number N\n",
        "\n",
        "N = int(input(\"Enter a number: \"))\n",
        "\n",
        "print(\"Even numbers up to\", N, \":\")\n",
        "for i in range(2, N + 1, 2):\n",
        "    print(i)\n"
      ],
      "metadata": {
        "colab": {
          "base_uri": "https://localhost:8080/"
        },
        "id": "furcxV_4wmJm",
        "outputId": "69e9f64f-bdd1-4347-d877-e19eba3d67bd"
      },
      "execution_count": null,
      "outputs": [
        {
          "output_type": "stream",
          "name": "stdout",
          "text": [
            "Enter a number: 10\n",
            "Even numbers up to 10 :\n",
            "2\n",
            "4\n",
            "6\n",
            "8\n",
            "10\n"
          ]
        }
      ]
    },
    {
      "cell_type": "code",
      "source": [
        "# Sum of first N natural numbers (sum = n * (n+1) / 2)\n",
        "\n",
        "n = int(input(\"Enter a number: \"))\n",
        "\n",
        "sum_n = n * (n + 1) // 2\n",
        "\n",
        "print(\"The sum of the first\", n, \"natural numbers is:\", sum_n)\n"
      ],
      "metadata": {
        "colab": {
          "base_uri": "https://localhost:8080/"
        },
        "id": "w_j4H3Ogxbv7",
        "outputId": "d872969b-b3a2-472c-df6f-be5ecc4ef9e7"
      },
      "execution_count": null,
      "outputs": [
        {
          "output_type": "stream",
          "name": "stdout",
          "text": [
            "Enter a number: 10\n",
            "The sum of the first 10 natural numbers is: 55\n"
          ]
        }
      ]
    },
    {
      "cell_type": "code",
      "source": [
        "# Calculate the factorial of a number (n! = n × (n-1) × ... × 1) without using def function\n",
        "\n",
        "n = int(input(\"Enter a number: \"))\n",
        "\n",
        "fact = 1\n",
        "\n",
        "for i in range(1, n + 1):\n",
        "    fact *= i\n",
        "\n",
        "print(\"The factorial of\", n, \"is:\", fact)\n"
      ],
      "metadata": {
        "colab": {
          "base_uri": "https://localhost:8080/"
        },
        "id": "PnenSNhQxxRc",
        "outputId": "4141fdce-f097-4537-f657-aeb2807b9a33"
      },
      "execution_count": null,
      "outputs": [
        {
          "output_type": "stream",
          "name": "stdout",
          "text": [
            "Enter a number: 5\n",
            "The factorial of 5 is: 120\n"
          ]
        }
      ]
    },
    {
      "cell_type": "code",
      "source": [
        "#Print multiplication table of a number 5.\n",
        "\n",
        "num = int(input(\"Enter a number to print its multiplication table: \"))\n",
        "\n",
        "print(\"Multiplication Table of\", num)\n",
        "for i in range(1, 11):\n",
        "    print(num, \"*\", i, \"=\", num * i)\n"
      ],
      "metadata": {
        "colab": {
          "base_uri": "https://localhost:8080/"
        },
        "id": "7CquWXWwyLRE",
        "outputId": "8c66de14-c64c-4bae-8441-af335212850c"
      },
      "execution_count": null,
      "outputs": [
        {
          "output_type": "stream",
          "name": "stdout",
          "text": [
            "Enter a number to print its multiplication table: 5\n",
            "Multiplication Table of 5\n",
            "5 * 1 = 5\n",
            "5 * 2 = 10\n",
            "5 * 3 = 15\n",
            "5 * 4 = 20\n",
            "5 * 5 = 25\n",
            "5 * 6 = 30\n",
            "5 * 7 = 35\n",
            "5 * 8 = 40\n",
            "5 * 9 = 45\n",
            "5 * 10 = 50\n"
          ]
        }
      ]
    },
    {
      "cell_type": "markdown",
      "source": [
        "Strings"
      ],
      "metadata": {
        "id": "UMVdqDcOyyvN"
      }
    },
    {
      "cell_type": "code",
      "source": [
        "#Write a program to Reverse a given string (at least 2 ways)\n",
        "\n",
        "text = input(\"Enter a string: \")\n",
        "\n",
        "reversed_text = text[::-1]\n",
        "\n",
        "print(\"Reversed string (Method 1):\", reversed_text)\n"
      ],
      "metadata": {
        "colab": {
          "base_uri": "https://localhost:8080/"
        },
        "id": "psjt3hXYyvYJ",
        "outputId": "cd74a49f-ca7d-4696-d15e-5a379da72bc6"
      },
      "execution_count": null,
      "outputs": [
        {
          "output_type": "stream",
          "name": "stdout",
          "text": [
            "Enter a string: hello\n",
            "Reversed string (Method 1): olleh\n"
          ]
        }
      ]
    },
    {
      "cell_type": "code",
      "source": [
        "text = input(\"Enter a string: \")\n",
        "\n",
        "reversed_text = \"\"\n",
        "for ch in text:\n",
        "    reversed_text = ch + reversed_text\n",
        "\n",
        "print(\"Reversed string (Method 2):\", reversed_text)\n"
      ],
      "metadata": {
        "colab": {
          "base_uri": "https://localhost:8080/"
        },
        "id": "JcrcZ8JYykni",
        "outputId": "63c56cd8-5d71-4c78-8942-6a8b111de4d5"
      },
      "execution_count": null,
      "outputs": [
        {
          "output_type": "stream",
          "name": "stdout",
          "text": [
            "Enter a string: hello\n",
            "Reversed string (Method 2): olleh\n"
          ]
        }
      ]
    },
    {
      "cell_type": "code",
      "source": [
        "# Count the number of vowels in a string\n",
        "\n",
        "text = input(\"Enter a string: \")\n",
        "\n",
        "vowels = \"aeiouAEIOU\"\n",
        "\n",
        "count = 0\n",
        "\n",
        "for ch in text:\n",
        "    if ch in vowels:\n",
        "        count += 1\n",
        "\n",
        "print(\"Number of vowels in the string:\", count)\n"
      ],
      "metadata": {
        "colab": {
          "base_uri": "https://localhost:8080/"
        },
        "id": "fY0CyKV2zPCN",
        "outputId": "707fca28-ae52-4dd3-a399-32faa6ab14f9"
      },
      "execution_count": null,
      "outputs": [
        {
          "output_type": "stream",
          "name": "stdout",
          "text": [
            "Enter a string: prajwal\n",
            "Number of vowels in the string: 2\n"
          ]
        }
      ]
    },
    {
      "cell_type": "code",
      "source": [
        "#Check if a string is a palindrome\n",
        "\n",
        "text = input(\"Enter a string: \")\n",
        "\n",
        "clean_text = text.replace(\" \", \"\").lower()\n",
        "\n",
        "if clean_text == clean_text[::-1]:\n",
        "    print(f'\"{text}\" is a palindrome.')\n",
        "else:\n",
        "    print(f'\"{text}\" is not a palindrome.')\n"
      ],
      "metadata": {
        "colab": {
          "base_uri": "https://localhost:8080/"
        },
        "id": "BrzgwaFQzi6A",
        "outputId": "b384ebb6-7755-422f-ed76-91b619fef666"
      },
      "execution_count": null,
      "outputs": [
        {
          "output_type": "stream",
          "name": "stdout",
          "text": [
            "Enter a string: racecar\n",
            "\"racecar\" is a palindrome.\n"
          ]
        }
      ]
    },
    {
      "cell_type": "code",
      "source": [
        "# Convert uppercase to lowercase and vice versa\n",
        "\n",
        "text = input(\"Enter a string: \")\n",
        "\n",
        "converted_text = text.swapcase()\n",
        "\n",
        "print(\"Converted string:\", converted_text)\n"
      ],
      "metadata": {
        "colab": {
          "base_uri": "https://localhost:8080/"
        },
        "id": "30D90jpY0S7-",
        "outputId": "8f17f865-5339-42b6-f71c-0e1336d93f0c"
      },
      "execution_count": null,
      "outputs": [
        {
          "output_type": "stream",
          "name": "stdout",
          "text": [
            "Enter a string: Hello Prajwal\n",
            "Converted string: hELLO pRAJWAL\n"
          ]
        }
      ]
    },
    {
      "cell_type": "code",
      "source": [
        "# Find the length of a string without using len() function\n",
        "\n",
        "text = input(\"Enter a string: \")\n",
        "\n",
        "length = 0\n",
        "\n",
        "for char in text:\n",
        "    length += 1\n",
        "\n",
        "print(\"The length of the string is:\", length)\n",
        "\n"
      ],
      "metadata": {
        "colab": {
          "base_uri": "https://localhost:8080/"
        },
        "id": "R_sueLi20qHV",
        "outputId": "afe7d0e7-41e5-4d2e-8d04-0184d4b2c4db"
      },
      "execution_count": null,
      "outputs": [
        {
          "output_type": "stream",
          "name": "stdout",
          "text": [
            "Enter a string: Prajwal\n",
            "The length of the string is: 7\n"
          ]
        }
      ]
    },
    {
      "cell_type": "markdown",
      "source": [
        " Lists"
      ],
      "metadata": {
        "id": "ioO9x4Ve1ZLD"
      }
    },
    {
      "cell_type": "code",
      "source": [
        "#Find the largest element in a list\n",
        "\n",
        "numbers = [12, 45, 7, 89, 34]\n",
        "\n",
        "largest = numbers[0]\n",
        "\n",
        "for num in numbers:\n",
        "    if num > largest:\n",
        "        largest = num\n",
        "\n",
        "print(\"The largest element in the list is:\", largest)\n"
      ],
      "metadata": {
        "colab": {
          "base_uri": "https://localhost:8080/"
        },
        "id": "vK178pMt1Nxq",
        "outputId": "6235ae1b-651a-437e-f822-8289785d4918"
      },
      "execution_count": null,
      "outputs": [
        {
          "output_type": "stream",
          "name": "stdout",
          "text": [
            "The largest element in the list is: 89\n"
          ]
        }
      ]
    },
    {
      "cell_type": "code",
      "source": [
        "#Find the smallest element in a list\n",
        "\n",
        "numbers = [12, 45, 7, 89, 34]\n",
        "\n",
        "smallest = numbers[0]\n",
        "\n",
        "for num in numbers:\n",
        "    if num < smallest:\n",
        "        smallest = num\n",
        "\n",
        "print(\"The smallest element in the list is:\", smallest)\n"
      ],
      "metadata": {
        "colab": {
          "base_uri": "https://localhost:8080/"
        },
        "id": "QaKgc0TH1vuO",
        "outputId": "7c55b5cc-f26f-4686-e032-7fc6d6d5096f"
      },
      "execution_count": null,
      "outputs": [
        {
          "output_type": "stream",
          "name": "stdout",
          "text": [
            "The smallest element in the list is: 7\n"
          ]
        }
      ]
    },
    {
      "cell_type": "code",
      "source": [
        "#Find the sum of elements in a list\n",
        "\n",
        "numbers = [12, 45, 7, 89, 34]\n",
        "\n",
        "total = 0\n",
        "\n",
        "for num in numbers:\n",
        "    total += num\n",
        "\n",
        "print(\"The sum of the elements in the list is:\", total)\n"
      ],
      "metadata": {
        "colab": {
          "base_uri": "https://localhost:8080/"
        },
        "id": "6zlxoIPg16-p",
        "outputId": "808de04a-f3db-4160-b11a-59a605e5439c"
      },
      "execution_count": null,
      "outputs": [
        {
          "output_type": "stream",
          "name": "stdout",
          "text": [
            "The sum of the elements in the list is: 187\n"
          ]
        }
      ]
    },
    {
      "cell_type": "code",
      "source": [
        "#Sort a list in ascending order\n",
        "\n",
        "numbers = [45, 12, 89, 7, 34]\n",
        "\n",
        "numbers.sort()\n",
        "\n",
        "print(\"List in ascending order:\", numbers)\n"
      ],
      "metadata": {
        "colab": {
          "base_uri": "https://localhost:8080/"
        },
        "id": "UZAJ57Yt2LUm",
        "outputId": "213207f8-9d4b-48ad-a0c4-b91941f9304b"
      },
      "execution_count": null,
      "outputs": [
        {
          "output_type": "stream",
          "name": "stdout",
          "text": [
            "List in ascending order: [7, 12, 34, 45, 89]\n"
          ]
        }
      ]
    },
    {
      "cell_type": "code",
      "source": [
        "#Remove duplicates from a list\n",
        "\n",
        "numbers = [12, 45, 7, 12, 89, 7, 34]\n",
        "\n",
        "unique_numbers = []\n",
        "for num in numbers:\n",
        "    if num not in unique_numbers:\n",
        "        unique_numbers.append(num)\n",
        "\n",
        "print(\"List after removing duplicates:\", unique_numbers)\n"
      ],
      "metadata": {
        "colab": {
          "base_uri": "https://localhost:8080/"
        },
        "id": "9ep24btZ2WdH",
        "outputId": "5e2592f2-2d98-41c1-8e3e-b34a3239566f"
      },
      "execution_count": null,
      "outputs": [
        {
          "output_type": "stream",
          "name": "stdout",
          "text": [
            "List after removing duplicates: [12, 45, 7, 89, 34]\n"
          ]
        }
      ]
    },
    {
      "cell_type": "markdown",
      "source": [
        "Tuples"
      ],
      "metadata": {
        "id": "vSAwWF7l2mwB"
      }
    },
    {
      "cell_type": "code",
      "source": [
        "#Find the maximum and minimum number in a tuple\n",
        "\n",
        "numbers = (12, 45, 7, 89, 34)\n",
        "\n",
        "maximum = max(numbers)\n",
        "minimum = min(numbers)\n",
        "\n",
        "print(\"Maximum number in the tuple is:\", maximum)\n",
        "print(\"Minimum number in the tuple is:\", minimum)\n"
      ],
      "metadata": {
        "colab": {
          "base_uri": "https://localhost:8080/"
        },
        "id": "zPUOapSC2hDr",
        "outputId": "4ed82498-a33c-4e5b-e837-29a054a459ae"
      },
      "execution_count": null,
      "outputs": [
        {
          "output_type": "stream",
          "name": "stdout",
          "text": [
            "Maximum number in the tuple is: 89\n",
            "Minimum number in the tuple is: 7\n"
          ]
        }
      ]
    },
    {
      "cell_type": "code",
      "source": [
        "#Convert a tuple to a list\n",
        "\n",
        "my_tuple = (12, 45, 7, 89, 34)\n",
        "\n",
        "my_list = list(my_tuple)\n",
        "\n",
        "print(\"Tuple:\", my_tuple)\n",
        "print(\"Converted List:\", my_list)\n"
      ],
      "metadata": {
        "colab": {
          "base_uri": "https://localhost:8080/"
        },
        "id": "dsgU2zNP3G3_",
        "outputId": "a5c98c0a-c75b-4f41-eff9-5163bd784eb5"
      },
      "execution_count": null,
      "outputs": [
        {
          "output_type": "stream",
          "name": "stdout",
          "text": [
            "Tuple: (12, 45, 7, 89, 34)\n",
            "Converted List: [12, 45, 7, 89, 34]\n"
          ]
        }
      ]
    },
    {
      "cell_type": "code",
      "source": [
        "#Count occurrences of an element in a tuple\n",
        "\n",
        "my_tuple = (12, 45, 7, 12, 89, 7, 12)\n",
        "\n",
        "element = int(input(\"Enter the element to count: \"))\n",
        "\n",
        "count = my_tuple.count(element)\n",
        "\n",
        "print(f\"The element {element} occurs {count} time(s) in the tuple.\")\n"
      ],
      "metadata": {
        "colab": {
          "base_uri": "https://localhost:8080/"
        },
        "id": "X1-3qFHJ3Rp7",
        "outputId": "746d28a7-8bad-44e5-b6e0-5852e6532ead"
      },
      "execution_count": null,
      "outputs": [
        {
          "output_type": "stream",
          "name": "stdout",
          "text": [
            "Enter the element to count: 12\n",
            "The element 12 occurs 3 time(s) in the tuple.\n"
          ]
        }
      ]
    },
    {
      "cell_type": "code",
      "source": [
        "# Find the index of an element in a tuple\n",
        "\n",
        "my_tuple = (12, 45, 7, 89, 34, 7)\n",
        "\n",
        "element = int(input(\"Enter the element to find its index: \"))\n",
        "\n",
        "if element in my_tuple:\n",
        "    index = my_tuple.index(element)\n",
        "    print(f\"The element {element} is at index {index}.\")\n",
        "else:\n",
        "    print(f\"The element {element} is not in the tuple.\")\n"
      ],
      "metadata": {
        "colab": {
          "base_uri": "https://localhost:8080/"
        },
        "id": "YpYf6X8A3dmx",
        "outputId": "11ab7eb3-378f-43a8-9c78-06d7f5621ad8"
      },
      "execution_count": null,
      "outputs": [
        {
          "output_type": "stream",
          "name": "stdout",
          "text": [
            "Enter the element to find its index: 7\n",
            "The element 7 is at index 2.\n"
          ]
        }
      ]
    },
    {
      "cell_type": "code",
      "source": [
        "# Reverse a tuple\n",
        "\n",
        "my_tuple = (12, 45, 7, 89, 34)\n",
        "\n",
        "reversed_tuple = my_tuple[::-1]\n",
        "\n",
        "print(\"Original tuple:\", my_tuple)\n",
        "print(\"Reversed tuple:\", reversed_tuple)\n"
      ],
      "metadata": {
        "colab": {
          "base_uri": "https://localhost:8080/"
        },
        "id": "3tGoeJyl3rjZ",
        "outputId": "e36fcc1f-1bb8-40f8-a7e2-3f809de1d586"
      },
      "execution_count": null,
      "outputs": [
        {
          "output_type": "stream",
          "name": "stdout",
          "text": [
            "Original tuple: (12, 45, 7, 89, 34)\n",
            "Reversed tuple: (34, 89, 7, 45, 12)\n"
          ]
        }
      ]
    },
    {
      "cell_type": "markdown",
      "source": [
        "Sets"
      ],
      "metadata": {
        "id": "ZmUy0y9U36z1"
      }
    },
    {
      "cell_type": "code",
      "source": [
        "# Create empty set\n",
        "\n",
        "my_set = set()\n",
        "\n",
        "print(\"Empty set:\", my_set)\n"
      ],
      "metadata": {
        "colab": {
          "base_uri": "https://localhost:8080/"
        },
        "id": "FC7klEgi32dN",
        "outputId": "4459c3ee-3125-4cd4-b149-635b5957e377"
      },
      "execution_count": null,
      "outputs": [
        {
          "output_type": "stream",
          "name": "stdout",
          "text": [
            "Empty set: set()\n"
          ]
        }
      ]
    },
    {
      "cell_type": "code",
      "source": [
        "# Perform union of two sets\n",
        "\n",
        "set1 = {1, 2, 3, 4}\n",
        "set2 = {3, 4, 5, 6}\n",
        "\n",
        "union_set = set1.union(set2)\n",
        "print(\"Union of set1 and set2:\", union_set)\n",
        "\n",
        "union_set_operator = set1 | set2\n",
        "print(\"Union using | operator:\", union_set_operator)\n"
      ],
      "metadata": {
        "colab": {
          "base_uri": "https://localhost:8080/"
        },
        "id": "yKhAfWKn4KKb",
        "outputId": "97a75fce-602c-4793-8965-d712cb730cd3"
      },
      "execution_count": null,
      "outputs": [
        {
          "output_type": "stream",
          "name": "stdout",
          "text": [
            "Union of set1 and set2: {1, 2, 3, 4, 5, 6}\n",
            "Union using | operator: {1, 2, 3, 4, 5, 6}\n"
          ]
        }
      ]
    },
    {
      "cell_type": "code",
      "source": [
        "# Perform intersection of two sets\n",
        "\n",
        "set1 = {1, 2, 3, 4}\n",
        "set2 = {3, 4, 5, 6}\n",
        "\n",
        "intersection_set = set1.intersection(set2)\n",
        "print(\"Intersection of set1 and set2:\", intersection_set)\n",
        "\n",
        "intersection_set_operator = set1 & set2\n",
        "print(\"Intersection using & operator:\", intersection_set_operator)\n"
      ],
      "metadata": {
        "colab": {
          "base_uri": "https://localhost:8080/"
        },
        "id": "xqieuaii4VLX",
        "outputId": "86bbfe8f-1fde-4ffc-a335-2e66c8324f4b"
      },
      "execution_count": null,
      "outputs": [
        {
          "output_type": "stream",
          "name": "stdout",
          "text": [
            "Intersection of set1 and set2: {3, 4}\n",
            "Intersection using & operator: {3, 4}\n"
          ]
        }
      ]
    },
    {
      "cell_type": "code",
      "source": [
        "# Perform difference of two sets\n",
        "\n",
        "set1 = {1, 2, 3, 4}\n",
        "set2 = {3, 4, 5, 6}\n",
        "\n",
        "difference_set = set1.difference(set2)\n",
        "print(\"Difference (set1 - set2):\", difference_set)\n",
        "\n",
        "difference_set_operator = set1 - set2\n",
        "print(\"Difference using - operator:\", difference_set_operator)\n"
      ],
      "metadata": {
        "colab": {
          "base_uri": "https://localhost:8080/"
        },
        "id": "nyZcmG-94eVO",
        "outputId": "f2cae753-3dab-4ff4-cee9-2b3b08424333"
      },
      "execution_count": null,
      "outputs": [
        {
          "output_type": "stream",
          "name": "stdout",
          "text": [
            "Difference (set1 - set2): {1, 2}\n",
            "Difference using - operator: {1, 2}\n"
          ]
        }
      ]
    },
    {
      "cell_type": "code",
      "source": [
        "# Check if a set is a subset of another\n",
        "\n",
        "set1 = {1, 2, 3}\n",
        "set2 = {1, 2, 3, 4, 5}\n",
        "\n",
        "if set1.issubset(set2):\n",
        "    print(\"set1 is a subset of set2\")\n",
        "else:\n",
        "    print(\"set1 is not a subset of set2\")\n",
        "\n",
        "print(\"Using <= operator:\", set1 <= set2)\n"
      ],
      "metadata": {
        "colab": {
          "base_uri": "https://localhost:8080/"
        },
        "id": "7d6j_UIV4ol2",
        "outputId": "06534181-cb1f-4a21-a4a2-d8f2bab87f61"
      },
      "execution_count": null,
      "outputs": [
        {
          "output_type": "stream",
          "name": "stdout",
          "text": [
            "set1 is a subset of set2\n",
            "Using <= operator: True\n"
          ]
        }
      ]
    },
    {
      "cell_type": "code",
      "source": [
        "#Remove an element from a set\n",
        "\n",
        "my_set = {1, 2, 3, 4, 5}\n",
        "\n",
        "my_set.remove(3)\n",
        "print(\"Set after removing 3:\", my_set)\n",
        "\n",
        "my_set.discard(10)\n",
        "print(\"Set after discarding 10 (no error if not present):\", my_set)\n"
      ],
      "metadata": {
        "colab": {
          "base_uri": "https://localhost:8080/"
        },
        "id": "RqBCZc034xJy",
        "outputId": "150848d8-9298-4c71-e984-fa576e9b7479"
      },
      "execution_count": null,
      "outputs": [
        {
          "output_type": "stream",
          "name": "stdout",
          "text": [
            "Set after removing 3: {1, 2, 4, 5}\n",
            "Set after discarding 10 (no error if not present): {1, 2, 4, 5}\n"
          ]
        }
      ]
    },
    {
      "cell_type": "markdown",
      "source": [
        "Dictionaries"
      ],
      "metadata": {
        "id": "24fLyPXr5GJ5"
      }
    },
    {
      "cell_type": "code",
      "source": [
        "# Create a dictionary and print keys & values\n",
        "\n",
        "student = {\n",
        "    \"name\": \"Prajwal\",\n",
        "    \"age\": 21,\n",
        "    \"course\": \"B.E\"\n",
        "}\n",
        "\n",
        "print(\"Dictionary:\", student)\n",
        "\n",
        "print(\"Keys:\", student.keys())\n",
        "\n",
        "print(\"Values:\", student.values())\n"
      ],
      "metadata": {
        "colab": {
          "base_uri": "https://localhost:8080/"
        },
        "id": "iHFTd8tu5Bze",
        "outputId": "931d3c45-79e9-44f5-91d8-3412230ac7eb"
      },
      "execution_count": null,
      "outputs": [
        {
          "output_type": "stream",
          "name": "stdout",
          "text": [
            "Dictionary: {'name': 'Prajwal', 'age': 21, 'course': 'B.E'}\n",
            "Keys: dict_keys(['name', 'age', 'course'])\n",
            "Values: dict_values(['Prajwal', 21, 'B.E'])\n"
          ]
        }
      ]
    },
    {
      "cell_type": "code",
      "source": [
        "# Find the sum of dictionary values\n",
        "\n",
        "marks = {\n",
        "    \"maths\": 85,\n",
        "    \"science\": 78,\n",
        "    \"english\": 92\n",
        "}\n",
        "\n",
        "total = sum(marks.values())\n",
        "\n",
        "print(\"The sum of dictionary values is:\", total)\n"
      ],
      "metadata": {
        "colab": {
          "base_uri": "https://localhost:8080/"
        },
        "id": "6d24-ZsR5QzP",
        "outputId": "c1c5500e-9c8a-4fe3-d70e-b228b69e056f"
      },
      "execution_count": null,
      "outputs": [
        {
          "output_type": "stream",
          "name": "stdout",
          "text": [
            "The sum of dictionary values is: 255\n"
          ]
        }
      ]
    },
    {
      "cell_type": "code",
      "source": [
        "#Merge two dictionaries\n",
        "\n",
        "dict1 = {\"a\": 1, \"b\": 2}\n",
        "dict2 = {\"c\": 3, \"d\": 4}\n",
        "\n",
        "merged_dict = dict1.copy()\n",
        "merged_dict.update(dict2)\n",
        "print(\"Merged dictionary (using update):\", merged_dict)\n",
        "\n",
        "merged_dict_operator = dict1 | dict2\n",
        "print(\"Merged dictionary (using | operator):\", merged_dict_operator)\n"
      ],
      "metadata": {
        "colab": {
          "base_uri": "https://localhost:8080/"
        },
        "id": "SdzOQ-sM5dVb",
        "outputId": "fb729bbb-c819-4dc2-e343-ce2ac752ea04"
      },
      "execution_count": null,
      "outputs": [
        {
          "output_type": "stream",
          "name": "stdout",
          "text": [
            "Merged dictionary (using update): {'a': 1, 'b': 2, 'c': 3, 'd': 4}\n",
            "Merged dictionary (using | operator): {'a': 1, 'b': 2, 'c': 3, 'd': 4}\n"
          ]
        }
      ]
    },
    {
      "cell_type": "code",
      "source": [
        "# Sort a dictionary by its values\n",
        "\n",
        "marks = {\"maths\": 85, \"science\": 78, \"english\": 92, \"history\": 70}\n",
        "\n",
        "sorted_marks = dict(sorted(marks.items(), key=lambda item: item[1]))\n",
        "print(\"Dictionary sorted by values (ascending):\", sorted_marks)\n",
        "\n",
        "sorted_marks_desc = dict(sorted(marks.items(), key=lambda item: item[1], reverse=True))\n",
        "print(\"Dictionary sorted by values (descending):\", sorted_marks_desc)\n"
      ],
      "metadata": {
        "colab": {
          "base_uri": "https://localhost:8080/"
        },
        "id": "mYpyDxUS5mew",
        "outputId": "46d99f07-b2cd-4ba2-b3df-76dbb7f179d7"
      },
      "execution_count": null,
      "outputs": [
        {
          "output_type": "stream",
          "name": "stdout",
          "text": [
            "Dictionary sorted by values (ascending): {'history': 70, 'science': 78, 'maths': 85, 'english': 92}\n",
            "Dictionary sorted by values (descending): {'english': 92, 'maths': 85, 'science': 78, 'history': 70}\n"
          ]
        }
      ]
    },
    {
      "cell_type": "code",
      "source": [
        "# Count the occurrences of elements in a dictionary\n",
        "\n",
        "marks = {\"maths\": 85, \"science\": 78, \"english\": 92, \"history\": 78}\n",
        "\n",
        "occurrences = {}\n",
        "\n",
        "for value in marks.values():\n",
        "    if value in occurrences:\n",
        "        occurrences[value] += 1\n",
        "    else:\n",
        "        occurrences[value] = 1\n",
        "\n",
        "print(\"Occurrences of values:\", occurrences)\n",
        "\n"
      ],
      "metadata": {
        "colab": {
          "base_uri": "https://localhost:8080/"
        },
        "id": "fYcI_OUx5vqy",
        "outputId": "40cc241d-e2b1-4af0-bd2c-e1072e2ee28f"
      },
      "execution_count": null,
      "outputs": [
        {
          "output_type": "stream",
          "name": "stdout",
          "text": [
            "Occurrences of values: {85: 1, 78: 2, 92: 1}\n"
          ]
        }
      ]
    },
    {
      "cell_type": "markdown",
      "source": [
        "Mathematical Programs"
      ],
      "metadata": {
        "id": "1RhYmdQG58If"
      }
    },
    {
      "cell_type": "code",
      "source": [
        "# Check if a number is prime or not\n",
        "\n",
        "num = int(input(\"Enter a number: \"))\n",
        "\n",
        "if num > 1:\n",
        "    for i in range(2, int(num**0.5) + 1):\n",
        "        if num % i == 0:\n",
        "            print(num, \"is not a prime number.\")\n",
        "            break\n",
        "    else:\n",
        "        print(num, \"is a prime number.\")\n",
        "else:\n",
        "    print(num, \"is not a prime number.\")\n"
      ],
      "metadata": {
        "colab": {
          "base_uri": "https://localhost:8080/"
        },
        "id": "iKeE3aE_5573",
        "outputId": "26a0581d-d174-4e75-d2a8-daf22c8189a4"
      },
      "execution_count": null,
      "outputs": [
        {
          "output_type": "stream",
          "name": "stdout",
          "text": [
            "Enter a number: 18\n",
            "18 is not a prime number.\n"
          ]
        }
      ]
    },
    {
      "cell_type": "code",
      "source": [
        "#Find the sum of digits of a number (eg: input: 1234 and output: 10)\n",
        "\n",
        "num = int(input(\"Enter a number: \"))\n",
        "\n",
        "sum_digits = 0\n",
        "temp = num\n",
        "\n",
        "while temp > 0:\n",
        "    digit = temp % 10\n",
        "    sum_digits += digit\n",
        "    temp //= 10\n",
        "\n",
        "print(\"The sum of digits of\", num, \"is:\", sum_digits)\n"
      ],
      "metadata": {
        "colab": {
          "base_uri": "https://localhost:8080/"
        },
        "id": "ctDeKOHK6Eyx",
        "outputId": "b9e1766a-07d6-4f5f-8ec4-61eaf94fdbd4"
      },
      "execution_count": null,
      "outputs": [
        {
          "output_type": "stream",
          "name": "stdout",
          "text": [
            "Enter a number: 12345\n",
            "The sum of digits of 12345 is: 15\n"
          ]
        }
      ]
    },
    {
      "cell_type": "code",
      "source": [
        "# Find the LCM of two numbers\n",
        "\n",
        "num1 = int(input(\"Enter first number: \"))\n",
        "num2 = int(input(\"Enter second number: \"))\n",
        "\n",
        "def gcd(a, b):\n",
        "    while b != 0:\n",
        "        a, b = b, a % b\n",
        "    return a\n",
        "\n",
        "lcm = (num1 * num2) // gcd(num1, num2)\n",
        "\n",
        "print(f\"The LCM of {num1} and {num2} is:\", lcm)\n"
      ],
      "metadata": {
        "colab": {
          "base_uri": "https://localhost:8080/"
        },
        "id": "xG7isXHz6Syg",
        "outputId": "88ddce47-6650-448a-c996-f8f74da3251c"
      },
      "execution_count": null,
      "outputs": [
        {
          "output_type": "stream",
          "name": "stdout",
          "text": [
            "Enter first number: 12\n",
            "Enter second number: 15\n",
            "The LCM of 12 and 15 is: 60\n"
          ]
        }
      ]
    },
    {
      "cell_type": "code",
      "source": [
        "# Find the GCD of two numbers\n",
        "\n",
        "num1 = int(input(\"Enter first number: \"))\n",
        "num2 = int(input(\"Enter second number: \"))\n",
        "\n",
        "def gcd(a, b):\n",
        "    while b != 0:\n",
        "        a, b = b, a % b\n",
        "    return a\n",
        "\n",
        "result = gcd(num1, num2)\n",
        "\n",
        "print(f\"The GCD of {num1} and {num2} is:\", result)\n"
      ],
      "metadata": {
        "colab": {
          "base_uri": "https://localhost:8080/"
        },
        "id": "JVefd_916eAZ",
        "outputId": "1cf0100d-26c6-4915-a6ba-4cb72c8545b1"
      },
      "execution_count": null,
      "outputs": [
        {
          "output_type": "stream",
          "name": "stdout",
          "text": [
            "Enter first number: 36\n",
            "Enter second number: 60\n",
            "The GCD of 36 and 60 is: 12\n"
          ]
        }
      ]
    },
    {
      "cell_type": "markdown",
      "source": [
        "Functions"
      ],
      "metadata": {
        "id": "dj1e4hZO6-EO"
      }
    },
    {
      "cell_type": "code",
      "source": [
        "#Define a function to find the sum of two numbers\n",
        "\n",
        "def sum_two_numbers(a, b):\n",
        "    return a + b\n",
        "\n",
        "num1 = 10\n",
        "num2 = 20\n",
        "result = sum_two_numbers(num1, num2)\n",
        "\n",
        "print(\"The sum of\", num1, \"and\", num2, \"is:\", result)\n"
      ],
      "metadata": {
        "colab": {
          "base_uri": "https://localhost:8080/"
        },
        "id": "7Afbn2mF6xdi",
        "outputId": "8b59bf1a-e165-42f8-a1b9-536cc2d4d9e3"
      },
      "execution_count": null,
      "outputs": [
        {
          "output_type": "stream",
          "name": "stdout",
          "text": [
            "The sum of 10 and 20 is: 30\n"
          ]
        }
      ]
    },
    {
      "cell_type": "code",
      "source": [
        "#Define a function to return the square of a number\n",
        "\n",
        "def square(number):\n",
        "    return number ** 2\n",
        "\n",
        "num = 5\n",
        "result = square(num)\n",
        "\n",
        "print(\"The square of\", num, \"is:\", result)\n"
      ],
      "metadata": {
        "colab": {
          "base_uri": "https://localhost:8080/"
        },
        "id": "nT19oP4J7J1K",
        "outputId": "ef730e5f-a3bb-4888-f54b-d1897f9b5ec8"
      },
      "execution_count": null,
      "outputs": [
        {
          "output_type": "stream",
          "name": "stdout",
          "text": [
            "The square of 5 is: 25\n"
          ]
        }
      ]
    },
    {
      "cell_type": "code",
      "source": [
        "#Define a function with default arguments\n",
        "\n",
        "def greet(name=\"User\", message=\"Welcome to Python!\"):\n",
        "    print(f\"Hello, {name}! {message}\")\n",
        "\n",
        "greet()\n",
        "\n",
        "greet(\"Prajwal\")\n",
        "\n",
        "greet(\"Prajwal\", \"Have a great day!\")\n"
      ],
      "metadata": {
        "colab": {
          "base_uri": "https://localhost:8080/"
        },
        "id": "L7ExLYiq7SXZ",
        "outputId": "6b1689f0-f1d5-4bce-e8ff-8202d23c1e37"
      },
      "execution_count": null,
      "outputs": [
        {
          "output_type": "stream",
          "name": "stdout",
          "text": [
            "Hello, User! Welcome to Python!\n",
            "Hello, Prajwal! Welcome to Python!\n",
            "Hello, Prajwal! Have a great day!\n"
          ]
        }
      ]
    },
    {
      "cell_type": "code",
      "source": [
        "#Define a function with variable-length arguments\n",
        "\n",
        "def sum_all(*numbers):\n",
        "    total = 0\n",
        "    for num in numbers:\n",
        "        total += num\n",
        "    return total\n",
        "\n",
        "print(\"Sum:\", sum_all(1, 2, 3))\n",
        "print(\"Sum:\", sum_all(4, 5, 6, 7, 8))\n",
        "print(\"Sum:\", sum_all())\n"
      ],
      "metadata": {
        "colab": {
          "base_uri": "https://localhost:8080/"
        },
        "id": "ZewKL6y57cHC",
        "outputId": "586b39c5-4283-48dc-9d1b-8a2246fb9f2a"
      },
      "execution_count": null,
      "outputs": [
        {
          "output_type": "stream",
          "name": "stdout",
          "text": [
            "Sum: 6\n",
            "Sum: 30\n",
            "Sum: 0\n"
          ]
        }
      ]
    },
    {
      "cell_type": "code",
      "source": [
        "#Define a function that returns multiple values\n",
        "\n",
        "def square_and_cube(number):\n",
        "    square = number ** 2\n",
        "    cube = number ** 3\n",
        "    return square, cube\n",
        "\n",
        "num = 4\n",
        "sq, cu = square_and_cube(num)\n",
        "\n",
        "print(f\"The square of {num} is {sq} and the cube is {cu}.\")\n"
      ],
      "metadata": {
        "colab": {
          "base_uri": "https://localhost:8080/"
        },
        "id": "ew8veXMy7l7N",
        "outputId": "38f7c5d5-02d2-4e54-cd6f-392324be1fd0"
      },
      "execution_count": null,
      "outputs": [
        {
          "output_type": "stream",
          "name": "stdout",
          "text": [
            "The square of 4 is 16 and the cube is 64.\n"
          ]
        }
      ]
    },
    {
      "cell_type": "markdown",
      "source": [
        "Lambda Functions"
      ],
      "metadata": {
        "id": "5eF6CT_Z70KN"
      }
    },
    {
      "cell_type": "code",
      "source": [
        "#Use a lambda function to add two numbers\n",
        "\n",
        "add = lambda a, b: a + b\n",
        "\n",
        "num1 = 10\n",
        "num2 = 20\n",
        "result = add(num1, num2)\n",
        "\n",
        "print(\"The sum of\", num1, \"and\", num2, \"is:\", result)\n"
      ],
      "metadata": {
        "colab": {
          "base_uri": "https://localhost:8080/"
        },
        "id": "eF_8RXEY7wBR",
        "outputId": "2e62ff13-d87c-4b1f-ee7e-8765a5483b4a"
      },
      "execution_count": null,
      "outputs": [
        {
          "output_type": "stream",
          "name": "stdout",
          "text": [
            "The sum of 10 and 20 is: 30\n"
          ]
        }
      ]
    },
    {
      "cell_type": "code",
      "source": [
        "#Use a lambda function to find the maximum of two numbers\n",
        "\n",
        "maximum = lambda a, b: a if a > b else b\n",
        "\n",
        "num1 = 15\n",
        "num2 = 25\n",
        "result = maximum(num1, num2)\n",
        "\n",
        "print(f\"The maximum of {num1} and {num2} is:\", result)\n"
      ],
      "metadata": {
        "colab": {
          "base_uri": "https://localhost:8080/"
        },
        "id": "CT5SRGMn7-qI",
        "outputId": "cea564dd-8285-4b88-e353-c9765f734cbc"
      },
      "execution_count": null,
      "outputs": [
        {
          "output_type": "stream",
          "name": "stdout",
          "text": [
            "The maximum of 15 and 25 is: 25\n"
          ]
        }
      ]
    },
    {
      "cell_type": "code",
      "source": [
        "#Use a lambda function to square a number\n",
        "\n",
        "square = lambda x: x ** 2\n",
        "\n",
        "num = 6\n",
        "result = square(num)\n",
        "\n",
        "print(f\"The square of {num} is:\", result)\n"
      ],
      "metadata": {
        "colab": {
          "base_uri": "https://localhost:8080/"
        },
        "id": "MEL6mew48Hpj",
        "outputId": "6495db77-4c6e-4885-9c17-98d9e4552030"
      },
      "execution_count": null,
      "outputs": [
        {
          "output_type": "stream",
          "name": "stdout",
          "text": [
            "The square of 6 is: 36\n"
          ]
        }
      ]
    },
    {
      "cell_type": "code",
      "source": [
        "#Use a lambda function inside map()\n",
        "\n",
        "numbers = [1, 2, 3, 4, 5]\n",
        "\n",
        "squared_numbers = list(map(lambda x: x ** 2, numbers))\n",
        "\n",
        "print(\"Original numbers:\", numbers)\n",
        "print(\"Squared numbers:\", squared_numbers)\n"
      ],
      "metadata": {
        "colab": {
          "base_uri": "https://localhost:8080/"
        },
        "id": "UproVRmk8QK2",
        "outputId": "6f41a850-405f-4a57-d87b-256aa7bfc0a1"
      },
      "execution_count": null,
      "outputs": [
        {
          "output_type": "stream",
          "name": "stdout",
          "text": [
            "Original numbers: [1, 2, 3, 4, 5]\n",
            "Squared numbers: [1, 4, 9, 16, 25]\n"
          ]
        }
      ]
    },
    {
      "cell_type": "code",
      "source": [
        "#Use a lambda function inside filter()\n",
        "\n",
        "numbers = [1, 2, 3, 4, 5, 6, 7, 8, 9, 10]\n",
        "\n",
        "even_numbers = list(filter(lambda x: x % 2 == 0, numbers))\n",
        "\n",
        "print(\"Original numbers:\", numbers)\n",
        "print(\"Even numbers:\", even_numbers)\n"
      ],
      "metadata": {
        "colab": {
          "base_uri": "https://localhost:8080/"
        },
        "id": "tjRxZVgG8Yc5",
        "outputId": "be0a1c42-e9d8-4e4a-aac0-a06a33bc4bd8"
      },
      "execution_count": null,
      "outputs": [
        {
          "output_type": "stream",
          "name": "stdout",
          "text": [
            "Original numbers: [1, 2, 3, 4, 5, 6, 7, 8, 9, 10]\n",
            "Even numbers: [2, 4, 6, 8, 10]\n"
          ]
        }
      ]
    },
    {
      "cell_type": "markdown",
      "source": [
        "List Comprehensions"
      ],
      "metadata": {
        "id": "40Q1PLzK8i_h"
      }
    },
    {
      "cell_type": "code",
      "source": [
        "#Generate a list of squares using list comprehension\n",
        "\n",
        "numbers = [1, 2, 3, 4, 5]\n",
        "\n",
        "squares = [x**2 for x in numbers]\n",
        "\n",
        "print(\"Original numbers:\", numbers)\n",
        "print(\"Squares:\", squares)\n"
      ],
      "metadata": {
        "colab": {
          "base_uri": "https://localhost:8080/"
        },
        "id": "zQRAVfAn8gOV",
        "outputId": "958119f0-d0d7-4e74-9cfc-edb094a28449"
      },
      "execution_count": null,
      "outputs": [
        {
          "output_type": "stream",
          "name": "stdout",
          "text": [
            "Original numbers: [1, 2, 3, 4, 5]\n",
            "Squares: [1, 4, 9, 16, 25]\n"
          ]
        }
      ]
    },
    {
      "cell_type": "code",
      "source": [
        "#Generate a list of even numbers using list comprehension\n",
        "\n",
        "even_numbers = [x for x in range(1, 21) if x % 2 == 0]\n",
        "\n",
        "print(\"Even numbers from 1 to 20:\", even_numbers)\n"
      ],
      "metadata": {
        "colab": {
          "base_uri": "https://localhost:8080/"
        },
        "id": "5Qj5lyJU8smy",
        "outputId": "773b5838-6a1a-4dcc-99d8-12324713b8e7"
      },
      "execution_count": null,
      "outputs": [
        {
          "output_type": "stream",
          "name": "stdout",
          "text": [
            "Even numbers from 1 to 20: [2, 4, 6, 8, 10, 12, 14, 16, 18, 20]\n"
          ]
        }
      ]
    },
    {
      "cell_type": "code",
      "source": [
        "#Reverse a list using list comprehension\n",
        "\n",
        "numbers = [1, 2, 3, 4, 5]\n",
        "\n",
        "reversed_list = [numbers[i] for i in range(len(numbers)-1, -1, -1)]\n",
        "\n",
        "print(\"Original list:\", numbers)\n",
        "print(\"Reversed list:\", reversed_list)\n"
      ],
      "metadata": {
        "colab": {
          "base_uri": "https://localhost:8080/"
        },
        "id": "G_LNB7os86ec",
        "outputId": "f16e6157-1c68-4f40-ae46-f88c015f5a08"
      },
      "execution_count": null,
      "outputs": [
        {
          "output_type": "stream",
          "name": "stdout",
          "text": [
            "Original list: [1, 2, 3, 4, 5]\n",
            "Reversed list: [5, 4, 3, 2, 1]\n"
          ]
        }
      ]
    },
    {
      "cell_type": "code",
      "source": [
        "#Flatten a nested list using list comprehension\n",
        "\n",
        "nested_list = [[1, 2, 3], [4, 5], [6, 7, 8, 9]]\n",
        "\n",
        "flat_list = [item for sublist in nested_list for item in sublist]\n",
        "\n",
        "print(\"Nested list:\", nested_list)\n",
        "print(\"Flattened list:\", flat_list)\n"
      ],
      "metadata": {
        "colab": {
          "base_uri": "https://localhost:8080/"
        },
        "id": "w10hjN489CFJ",
        "outputId": "185108ac-c360-481b-8007-c8ba503ffe97"
      },
      "execution_count": null,
      "outputs": [
        {
          "output_type": "stream",
          "name": "stdout",
          "text": [
            "Nested list: [[1, 2, 3], [4, 5], [6, 7, 8, 9]]\n",
            "Flattened list: [1, 2, 3, 4, 5, 6, 7, 8, 9]\n"
          ]
        }
      ]
    },
    {
      "cell_type": "code",
      "source": [
        "#Find common elements in two lists using list comprehension\n",
        "\n",
        "list1 = [1, 2, 3, 4, 5]\n",
        "list2 = [4, 5, 6, 7, 8]\n",
        "\n",
        "common_elements = [x for x in list1 if x in list2]\n",
        "\n",
        "print(\"List1:\", list1)\n",
        "print(\"List2:\", list2)\n",
        "print(\"Common elements:\", common_elements)\n"
      ],
      "metadata": {
        "colab": {
          "base_uri": "https://localhost:8080/"
        },
        "id": "lY9WaVeM9Krq",
        "outputId": "841faae5-0aeb-41a3-b667-3aa44eec3954"
      },
      "execution_count": null,
      "outputs": [
        {
          "output_type": "stream",
          "name": "stdout",
          "text": [
            "List1: [1, 2, 3, 4, 5]\n",
            "List2: [4, 5, 6, 7, 8]\n",
            "Common elements: [4, 5]\n"
          ]
        }
      ]
    },
    {
      "cell_type": "markdown",
      "source": [
        "Miscellaneous"
      ],
      "metadata": {
        "id": "1LB2rjve9XqZ"
      }
    },
    {
      "cell_type": "code",
      "source": [
        "# Swap two numbers without using a third variable\n",
        "\n",
        "a = 10\n",
        "b = 20\n",
        "\n",
        "print(\"Before swapping: a =\", a, \"b =\", b)\n",
        "\n",
        "a = a + b\n",
        "b = a - b\n",
        "a = a - b\n",
        "\n",
        "print(\"After swapping: a =\", a, \"b =\", b)\n"
      ],
      "metadata": {
        "colab": {
          "base_uri": "https://localhost:8080/"
        },
        "id": "0Rwm7_eA9VN2",
        "outputId": "741fca04-9c02-41aa-9f6b-ab12abdf1155"
      },
      "execution_count": null,
      "outputs": [
        {
          "output_type": "stream",
          "name": "stdout",
          "text": [
            "Before swapping: a = 10 b = 20\n",
            "After swapping: a = 20 b = 10\n"
          ]
        }
      ]
    },
    {
      "cell_type": "code",
      "source": [
        "#Count occurrences of each word in a sentence\n",
        "\n",
        "sentence = input(\"Enter a sentence: \")\n",
        "\n",
        "words = sentence.split()\n",
        "\n",
        "word_count = {}\n",
        "\n",
        "for word in words:\n",
        "    word = word.lower()\n",
        "    if word in word_count:\n",
        "        word_count[word] += 1\n",
        "    else:\n",
        "        word_count[word] = 1\n",
        "\n",
        "print(\"Word occurrences:\", word_count)\n"
      ],
      "metadata": {
        "colab": {
          "base_uri": "https://localhost:8080/"
        },
        "id": "Nuu4srAt9hyz",
        "outputId": "97e0d6b9-0db2-49b6-cd3d-043bfc649528"
      },
      "execution_count": null,
      "outputs": [
        {
          "output_type": "stream",
          "name": "stdout",
          "text": [
            "Enter a sentence: Python is fun and Python is easy\n",
            "Word occurrences: {'python': 2, 'is': 2, 'fun': 1, 'and': 1, 'easy': 1}\n"
          ]
        }
      ]
    },
    {
      "cell_type": "code",
      "source": [
        "#Find the second largest number in a list\n",
        "\n",
        "numbers = [12, 45, 7, 89, 34, 89]\n",
        "\n",
        "unique_numbers = list(set(numbers))\n",
        "unique_numbers.sort()\n",
        "\n",
        "second_largest = unique_numbers[-2]\n",
        "\n",
        "print(\"The second largest number is:\", second_largest)\n"
      ],
      "metadata": {
        "colab": {
          "base_uri": "https://localhost:8080/"
        },
        "id": "dFwDLOZG9t9Z",
        "outputId": "497505d9-9689-487f-80d5-58b8f74d5398"
      },
      "execution_count": null,
      "outputs": [
        {
          "output_type": "stream",
          "name": "stdout",
          "text": [
            "The second largest number is: 45\n"
          ]
        }
      ]
    },
    {
      "cell_type": "code",
      "source": [
        "#Check if two strings are anagrams\n",
        "\n",
        "str1 = input(\"Enter first string: \").replace(\" \", \"\").lower()\n",
        "str2 = input(\"Enter second string: \").replace(\" \", \"\").lower()\n",
        "\n",
        "if sorted(str1) == sorted(str2):\n",
        "    print(\"The strings are anagrams.\")\n",
        "else:\n",
        "    print(\"The strings are not anagrams.\")\n",
        "\n"
      ],
      "metadata": {
        "colab": {
          "base_uri": "https://localhost:8080/"
        },
        "id": "LrVnbe3w97vt",
        "outputId": "395e6efe-6112-421c-ddb9-5bff411abcb2"
      },
      "execution_count": null,
      "outputs": [
        {
          "output_type": "stream",
          "name": "stdout",
          "text": [
            "Enter first string: Listen\n",
            "Enter second string: Silent\n",
            "The strings are anagrams.\n"
          ]
        }
      ]
    },
    {
      "cell_type": "code",
      "source": [
        "#Print Pascal's Triangle\n",
        "\n",
        "rows = int(input(\"Enter the number of rows: \"))\n",
        "\n",
        "def factorial(n):\n",
        "    fact = 1\n",
        "    for i in range(1, n + 1):\n",
        "        fact *= i\n",
        "    return fact\n",
        "\n",
        "for i in range(rows):\n",
        "\n",
        "    print(\" \" * (rows - i - 1), end=\"\")\n",
        "    for j in range(i + 1):\n",
        "\n",
        "        print(factorial(i) // (factorial(j) * factorial(i - j)), end=\" \")\n",
        "    print()\n"
      ],
      "metadata": {
        "colab": {
          "base_uri": "https://localhost:8080/"
        },
        "id": "j3cKSusV-DCh",
        "outputId": "72d54877-6bad-4af4-d659-4bcccbeb07a0"
      },
      "execution_count": null,
      "outputs": [
        {
          "output_type": "stream",
          "name": "stdout",
          "text": [
            "Enter the number of rows: 6\n",
            "     1 \n",
            "    1 1 \n",
            "   1 2 1 \n",
            "  1 3 3 1 \n",
            " 1 4 6 4 1 \n",
            "1 5 10 10 5 1 \n"
          ]
        }
      ]
    },
    {
      "cell_type": "code",
      "source": [],
      "metadata": {
        "id": "MJPHrkaz-il6"
      },
      "execution_count": null,
      "outputs": []
    }
  ],
  "metadata": {
    "colab": {
      "provenance": [],
      "authorship_tag": "ABX9TyNwPfs5u0Ejr3gK8kiTgWrE",
      "include_colab_link": true
    },
    "kernelspec": {
      "display_name": "Python 3",
      "name": "python3"
    },
    "language_info": {
      "name": "python"
    }
  },
  "nbformat": 4,
  "nbformat_minor": 0
}