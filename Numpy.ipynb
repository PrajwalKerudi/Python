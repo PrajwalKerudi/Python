{
  "cells": [
    {
      "cell_type": "markdown",
      "metadata": {
        "id": "view-in-github",
        "colab_type": "text"
      },
      "source": [
        "<a href=\"https://colab.research.google.com/github/PrajwalKerudi/Python/blob/main/Numpy.ipynb\" target=\"_parent\"><img src=\"https://colab.research.google.com/assets/colab-badge.svg\" alt=\"Open In Colab\"/></a>"
      ]
    },
    {
      "cell_type": "code",
      "execution_count": null,
      "metadata": {
        "id": "qlXqcPWHK4fm"
      },
      "outputs": [],
      "source": [
        "import numpy as np"
      ]
    },
    {
      "cell_type": "code",
      "execution_count": null,
      "metadata": {
        "colab": {
          "base_uri": "https://localhost:8080/"
        },
        "id": "BWcpk0oMLBQP",
        "outputId": "a8b5536b-9e13-4daf-d528-1c4b3ee904cb"
      },
      "outputs": [
        {
          "name": "stdout",
          "output_type": "stream",
          "text": [
            "[1 2 3 4]\n"
          ]
        }
      ],
      "source": [
        "import numpy as np\n",
        "\n",
        "arr = np.array([1,2,3,4])\n",
        "print(arr)"
      ]
    },
    {
      "cell_type": "code",
      "execution_count": null,
      "metadata": {
        "colab": {
          "base_uri": "https://localhost:8080/"
        },
        "id": "V5q2tjzfLcjt",
        "outputId": "fa5d8f98-bd0f-40e8-a0c3-d77c60c58ff8"
      },
      "outputs": [
        {
          "name": "stdout",
          "output_type": "stream",
          "text": [
            "2.0.2\n"
          ]
        }
      ],
      "source": [
        "#.How do you check the version and configuration of NumPy?\n",
        "\n",
        "import numpy as np\n",
        "print(np.__version__)\n"
      ]
    },
    {
      "cell_type": "code",
      "execution_count": null,
      "metadata": {
        "colab": {
          "base_uri": "https://localhost:8080/"
        },
        "id": "KUFPc3TWLpAL",
        "outputId": "26a72c5b-1f52-4424-d447-a690daf6361b"
      },
      "outputs": [
        {
          "name": "stdout",
          "output_type": "stream",
          "text": [
            "[0. 0. 0. 0. 0. 0. 0. 0. 0. 0.]\n"
          ]
        }
      ],
      "source": [
        "#How do you create a vector filled with zeros of size 10?\n",
        "\n",
        "import numpy as np\n",
        "vector = np.zeros(10)\n",
        "print(vector)"
      ]
    },
    {
      "cell_type": "code",
      "execution_count": null,
      "metadata": {
        "colab": {
          "base_uri": "https://localhost:8080/"
        },
        "id": "fot2mgonMB57",
        "outputId": "03c5f4a5-a367-45c0-8127-ae61ae682009"
      },
      "outputs": [
        {
          "name": "stdout",
          "output_type": "stream",
          "text": [
            "Help on built-in function array in module numpy:\n",
            "\n",
            "array(...)\n",
            "    array(object, dtype=None, *, copy=True, order='K', subok=False, ndmin=0,\n",
            "          like=None)\n",
            "\n",
            "    Create an array.\n",
            "\n",
            "    Parameters\n",
            "    ----------\n",
            "    object : array_like\n",
            "        An array, any object exposing the array interface, an object whose\n",
            "        ``__array__`` method returns an array, or any (nested) sequence.\n",
            "        If object is a scalar, a 0-dimensional array containing object is\n",
            "        returned.\n",
            "    dtype : data-type, optional\n",
            "        The desired data-type for the array. If not given, NumPy will try to use\n",
            "        a default ``dtype`` that can represent the values (by applying promotion\n",
            "        rules when necessary.)\n",
            "    copy : bool, optional\n",
            "        If ``True`` (default), then the array data is copied. If ``None``,\n",
            "        a copy will only be made if ``__array__`` returns a copy, if obj is\n",
            "        a nested sequence, or if a copy is needed to satisfy any of the other\n",
            "        requirements (``dtype``, ``order``, etc.). Note that any copy of\n",
            "        the data is shallow, i.e., for arrays with object dtype, the new\n",
            "        array will point to the same objects. See Examples for `ndarray.copy`.\n",
            "        For ``False`` it raises a ``ValueError`` if a copy cannot be avoided.\n",
            "        Default: ``True``.\n",
            "    order : {'K', 'A', 'C', 'F'}, optional\n",
            "        Specify the memory layout of the array. If object is not an array, the\n",
            "        newly created array will be in C order (row major) unless 'F' is\n",
            "        specified, in which case it will be in Fortran order (column major).\n",
            "        If object is an array the following holds.\n",
            "\n",
            "        ===== ========= ===================================================\n",
            "        order  no copy                     copy=True\n",
            "        ===== ========= ===================================================\n",
            "        'K'   unchanged F & C order preserved, otherwise most similar order\n",
            "        'A'   unchanged F order if input is F and not C, otherwise C order\n",
            "        'C'   C order   C order\n",
            "        'F'   F order   F order\n",
            "        ===== ========= ===================================================\n",
            "\n",
            "        When ``copy=None`` and a copy is made for other reasons, the result is\n",
            "        the same as if ``copy=True``, with some exceptions for 'A', see the\n",
            "        Notes section. The default order is 'K'.\n",
            "    subok : bool, optional\n",
            "        If True, then sub-classes will be passed-through, otherwise\n",
            "        the returned array will be forced to be a base-class array (default).\n",
            "    ndmin : int, optional\n",
            "        Specifies the minimum number of dimensions that the resulting\n",
            "        array should have.  Ones will be prepended to the shape as\n",
            "        needed to meet this requirement.\n",
            "    like : array_like, optional\n",
            "        Reference object to allow the creation of arrays which are not\n",
            "        NumPy arrays. If an array-like passed in as ``like`` supports\n",
            "        the ``__array_function__`` protocol, the result will be defined\n",
            "        by it. In this case, it ensures the creation of an array object\n",
            "        compatible with that passed in via this argument.\n",
            "\n",
            "        .. versionadded:: 1.20.0\n",
            "\n",
            "    Returns\n",
            "    -------\n",
            "    out : ndarray\n",
            "        An array object satisfying the specified requirements.\n",
            "\n",
            "    See Also\n",
            "    --------\n",
            "    empty_like : Return an empty array with shape and type of input.\n",
            "    ones_like : Return an array of ones with shape and type of input.\n",
            "    zeros_like : Return an array of zeros with shape and type of input.\n",
            "    full_like : Return a new array with shape of input filled with value.\n",
            "    empty : Return a new uninitialized array.\n",
            "    ones : Return a new array setting values to one.\n",
            "    zeros : Return a new array setting values to zero.\n",
            "    full : Return a new array of given shape filled with value.\n",
            "    copy: Return an array copy of the given object.\n",
            "\n",
            "\n",
            "    Notes\n",
            "    -----\n",
            "    When order is 'A' and ``object`` is an array in neither 'C' nor 'F' order,\n",
            "    and a copy is forced by a change in dtype, then the order of the result is\n",
            "    not necessarily 'C' as expected. This is likely a bug.\n",
            "\n",
            "    Examples\n",
            "    --------\n",
            "    >>> np.array([1, 2, 3])\n",
            "    array([1, 2, 3])\n",
            "\n",
            "    Upcasting:\n",
            "\n",
            "    >>> np.array([1, 2, 3.0])\n",
            "    array([ 1.,  2.,  3.])\n",
            "\n",
            "    More than one dimension:\n",
            "\n",
            "    >>> np.array([[1, 2], [3, 4]])\n",
            "    array([[1, 2],\n",
            "           [3, 4]])\n",
            "\n",
            "    Minimum dimensions 2:\n",
            "\n",
            "    >>> np.array([1, 2, 3], ndmin=2)\n",
            "    array([[1, 2, 3]])\n",
            "\n",
            "    Type provided:\n",
            "\n",
            "    >>> np.array([1, 2, 3], dtype=complex)\n",
            "    array([ 1.+0.j,  2.+0.j,  3.+0.j])\n",
            "\n",
            "    Data-type consisting of more than one element:\n",
            "\n",
            "    >>> x = np.array([(1,2),(3,4)],dtype=[('a','<i4'),('b','<i4')])\n",
            "    >>> x['a']\n",
            "    array([1, 3])\n",
            "\n",
            "    Creating an array from sub-classes:\n",
            "\n",
            "    >>> np.array(np.asmatrix('1 2; 3 4'))\n",
            "    array([[1, 2],\n",
            "           [3, 4]])\n",
            "\n",
            "    >>> np.array(np.asmatrix('1 2; 3 4'), subok=True)\n",
            "    matrix([[1, 2],\n",
            "            [3, 4]])\n",
            "\n"
          ]
        }
      ],
      "source": [
        "#How do you find help/documentation for a NumPy function from the command line?\n",
        "\n",
        "import numpy as np\n",
        "help(np.array)"
      ]
    },
    {
      "cell_type": "code",
      "execution_count": null,
      "metadata": {
        "colab": {
          "base_uri": "https://localhost:8080/"
        },
        "id": "lVwHLGGoMRdz",
        "outputId": "f125e6b8-32d3-44eb-ab3c-70364df26785"
      },
      "outputs": [
        {
          "name": "stdout",
          "output_type": "stream",
          "text": [
            "[0. 0. 0. 0. 0. 1. 0. 0. 0. 0.]\n"
          ]
        }
      ],
      "source": [
        "#How do you create a zero vector of size 10 with the fifth element as 1\n",
        "\n",
        "import numpy as np\n",
        "vector = np.zeros(10)\n",
        "vector[5] = 1\n",
        "print(vector)"
      ]
    },
    {
      "cell_type": "code",
      "execution_count": null,
      "metadata": {
        "colab": {
          "base_uri": "https://localhost:8080/"
        },
        "id": "51WK0PpFMqOQ",
        "outputId": "87b7dcc9-d3ac-4af1-8076-5f3f0eef27cb"
      },
      "outputs": [
        {
          "name": "stdout",
          "output_type": "stream",
          "text": [
            "[10 11 12 13 14 15 16 17 18 19 20 21 22 23 24 25 26 27 28 29 30 31 32 33\n",
            " 34 35 36 37 38 39 40 41 42 43 44 45 46 47 48 49]\n"
          ]
        }
      ],
      "source": [
        "#How do you create a vector with values from 10 to 49\n",
        "\n",
        "import numpy as np\n",
        "vector = np.arange(10,50)\n",
        "print(vector)"
      ]
    },
    {
      "cell_type": "code",
      "execution_count": null,
      "metadata": {
        "colab": {
          "base_uri": "https://localhost:8080/"
        },
        "id": "5_15nr8ZM-41",
        "outputId": "ac0bb625-7547-4b77-f93c-5806dd8e5257"
      },
      "outputs": [
        {
          "name": "stdout",
          "output_type": "stream",
          "text": [
            "[49 48 47 46 45 44 43 42 41 40 39 38 37 36 35 34 33 32 31 30 29 28 27 26\n",
            " 25 24 23 22 21 20 19 18 17 16 15 14 13 12 11 10]\n"
          ]
        }
      ],
      "source": [
        "# How do you reverse a vector?\n",
        "\n",
        "import numpy as np\n",
        "vector = np.arange(10,50)\n",
        "vector = vector[::-1]\n",
        "print(vector)"
      ]
    },
    {
      "cell_type": "code",
      "execution_count": null,
      "metadata": {
        "colab": {
          "base_uri": "https://localhost:8080/"
        },
        "id": "2-e4O00lNjP0",
        "outputId": "b60bb9f3-d8b3-48c3-b5c3-fcdf286f39e6"
      },
      "outputs": [
        {
          "name": "stdout",
          "output_type": "stream",
          "text": [
            "[[0 1 2]\n",
            " [3 4 5]\n",
            " [6 7 8]]\n"
          ]
        }
      ],
      "source": [
        "#How do you create a 3x3 matrix with values from 0 to 8\n",
        "\n",
        "import numpy as np\n",
        "matrix = np.arange(9).reshape(3,3)\n",
        "print(matrix)"
      ]
    },
    {
      "cell_type": "code",
      "execution_count": null,
      "metadata": {
        "colab": {
          "base_uri": "https://localhost:8080/"
        },
        "id": "3mKgC4HAN4Ti",
        "outputId": "79f11247-74d3-4d63-883c-c0a6e234a377"
      },
      "outputs": [
        {
          "name": "stdout",
          "output_type": "stream",
          "text": [
            "(array([0, 1, 4]),)\n"
          ]
        }
      ],
      "source": [
        "#.How do you find indices of non-zero elements in an array\n",
        "\n",
        "import numpy as np\n",
        "array = np.array([1,2,0,0,4,0])\n",
        "indices = np.nonzero(array)\n",
        "print(indices)"
      ]
    },
    {
      "cell_type": "code",
      "execution_count": null,
      "metadata": {
        "id": "QeiXR-GJOYGF"
      },
      "outputs": [],
      "source": [
        "#How do you create a 3x3 identity matrix\n",
        "\n",
        "import numpy as np\n",
        "matrix = np.eye(3)\n",
        "print(matrix)"
      ]
    },
    {
      "cell_type": "code",
      "execution_count": null,
      "metadata": {
        "colab": {
          "base_uri": "https://localhost:8080/"
        },
        "id": "2dZo5PXgO3qe",
        "outputId": "e67a71f5-8fe2-4870-d0de-12be83a807d9"
      },
      "outputs": [
        {
          "name": "stdout",
          "output_type": "stream",
          "text": [
            "[[[0.58964631 0.47482236 0.67401204]\n",
            "  [0.76888013 0.89002491 0.64785634]\n",
            "  [0.63978862 0.8811022  0.94529013]]\n",
            "\n",
            " [[0.57447715 0.97521112 0.67054628]\n",
            "  [0.14116196 0.23463044 0.39237593]\n",
            "  [0.95735835 0.85627511 0.74664525]]\n",
            "\n",
            " [[0.58672874 0.46077852 0.04813728]\n",
            "  [0.44922644 0.86456844 0.71907364]\n",
            "  [0.08278514 0.64197619 0.60286403]]]\n"
          ]
        }
      ],
      "source": [
        "#How do you generate a 3x3x3 array with random values?\n",
        "\n",
        "import numpy as np\n",
        "array = np.random.rand(3,3,3)\n",
        "print(array)"
      ]
    },
    {
      "cell_type": "code",
      "execution_count": null,
      "metadata": {
        "colab": {
          "background_save": true,
          "base_uri": "https://localhost:8080/"
        },
        "id": "LcZ8QQqPWThn",
        "outputId": "212acd07-e701-4334-eadb-4870867676c0"
      },
      "outputs": [
        {
          "name": "stdout",
          "output_type": "stream",
          "text": [
            "Matrix:\n",
            " [[0.71729624 0.1144299  0.28164337 0.9387178  0.94592941 0.69543224\n",
            "  0.91506022 0.62369382 0.93542351 0.86804871]\n",
            " [0.95970131 0.67924034 0.88169195 0.5075628  0.80696216 0.18319984\n",
            "  0.7325639  0.85643933 0.70479223 0.37802955]\n",
            " [0.55954471 0.79195378 0.92418748 0.73540763 0.317461   0.97945541\n",
            "  0.8255542  0.0926626  0.93353313 0.04303792]\n",
            " [0.57012823 0.57131226 0.25207916 0.58716255 0.90994749 0.6966571\n",
            "  0.30803214 0.90937227 0.51240162 0.72053279]\n",
            " [0.26826796 0.66517546 0.26819543 0.07471146 0.22667762 0.20844842\n",
            "  0.37171024 0.43417797 0.3644747  0.12858003]\n",
            " [0.14298657 0.67089467 0.45188317 0.54817048 0.3374305  0.95016705\n",
            "  0.86172273 0.72345775 0.72276612 0.81333658]\n",
            " [0.34897068 0.11987945 0.0045084  0.31665969 0.83816829 0.15270347\n",
            "  0.04110165 0.99289599 0.39281493 0.45770106]\n",
            " [0.24189893 0.7728572  0.85466726 0.0659372  0.84038937 0.78851382\n",
            "  0.42931526 0.87042204 0.02524523 0.93341794]\n",
            " [0.69765302 0.47927332 0.10386147 0.92489699 0.0171756  0.9955162\n",
            "  0.25840241 0.91047481 0.20143369 0.09857881]\n",
            " [0.48083092 0.63511315 0.39930559 0.49598501 0.69046097 0.14262757\n",
            "  0.41566502 0.6081562  0.87304001 0.99439604]]\n",
            "\n",
            "Minimum value: 0.004508397725813795\n",
            "Maximum value: 0.9955161954356798\n"
          ]
        }
      ],
      "source": [
        "#How do you find the min and max values in a 10x10 random matrix\n",
        "\n",
        "import numpy as np\n",
        "matrix = np.random.rand(10,10)\n",
        "min_value = np.min(matrix)\n",
        "max_value = np.max(matrix)\n",
        "print(\"min_value\") == min_value\n",
        "print(\"max_value\") == max_value"
      ]
    },
    {
      "cell_type": "code",
      "execution_count": null,
      "metadata": {
        "id": "NKed6jNCWzPj",
        "colab": {
          "base_uri": "https://localhost:8080/"
        },
        "outputId": "c61eadce-2ba4-47b0-eaf8-972e536a534e"
      },
      "outputs": [
        {
          "output_type": "stream",
          "name": "stdout",
          "text": [
            "0.48261255935204894\n"
          ]
        }
      ],
      "source": [
        "#How do you calculate the mean of a random vector of size 30\n",
        "\n",
        "import numpy as np\n",
        "vector = np.random.rand(30)\n",
        "mean_value = np.mean(vector)\n",
        "print(mean_value)"
      ]
    },
    {
      "cell_type": "code",
      "source": [
        "#How do you create a 2D array with 1s on the border and 0s inside\n",
        "\n",
        "import numpy as np\n",
        "array = np.ones((5,5))\n",
        "array[1:-1, 1:-1] = 0\n",
        "print(array)"
      ],
      "metadata": {
        "colab": {
          "base_uri": "https://localhost:8080/"
        },
        "id": "V69QriMl77-3",
        "outputId": "342642a4-93ae-4d0e-8a02-af411e22012b"
      },
      "execution_count": null,
      "outputs": [
        {
          "output_type": "stream",
          "name": "stdout",
          "text": [
            "[[1. 1. 1. 1. 1.]\n",
            " [1. 0. 0. 0. 1.]\n",
            " [1. 0. 0. 0. 1.]\n",
            " [1. 0. 0. 0. 1.]\n",
            " [1. 1. 1. 1. 1.]]\n"
          ]
        }
      ]
    },
    {
      "cell_type": "code",
      "source": [
        "#What is the result of operations like 0 * np.nan, np.nan == np.nan, etc.\n",
        "\n",
        "import numpy as np\n",
        "print(0 * np.nan)\n",
        "print(np.nan == np.nan)\n",
        "print(np.inf > np.nan)\n",
        "print(np.nan != np.nan)"
      ],
      "metadata": {
        "colab": {
          "base_uri": "https://localhost:8080/"
        },
        "id": "Wqfo9cj885_P",
        "outputId": "3598445d-282e-441a-b796-4c1663638a92"
      },
      "execution_count": null,
      "outputs": [
        {
          "output_type": "stream",
          "name": "stdout",
          "text": [
            "nan\n",
            "False\n",
            "False\n",
            "True\n"
          ]
        }
      ]
    },
    {
      "cell_type": "code",
      "source": [
        "#How do you create a matrix with values below the diagonal\n",
        "\n",
        "import numpy as np\n",
        "matrix = np.diag(np.arange(1,5), k=-1)\n",
        "print(matrix)"
      ],
      "metadata": {
        "colab": {
          "base_uri": "https://localhost:8080/"
        },
        "id": "HOshpSWN9Xnw",
        "outputId": "b6102b19-e817-43be-e984-dbb22f8426ae"
      },
      "execution_count": null,
      "outputs": [
        {
          "output_type": "stream",
          "name": "stdout",
          "text": [
            "[[0 0 0 0 0]\n",
            " [1 0 0 0 0]\n",
            " [0 2 0 0 0]\n",
            " [0 0 3 0 0]\n",
            " [0 0 0 4 0]]\n"
          ]
        }
      ]
    },
    {
      "cell_type": "code",
      "source": [
        "#.How do you create a checkerboard pattern in an 8x8 matrix\n",
        "\n",
        "import numpy as np\n",
        "\n",
        "checkerboard = np.zeros((8, 8), dtype=int)\n",
        "checkerboard[1::2, ::2] = 1\n",
        "checkerboard[::2, 1::2] = 1\n",
        "\n",
        "print(checkerboard)\n"
      ],
      "metadata": {
        "id": "Np82vLwO-xem",
        "colab": {
          "base_uri": "https://localhost:8080/"
        },
        "outputId": "1e254e01-1b64-4a20-d3ee-2d074401c1ce"
      },
      "execution_count": null,
      "outputs": [
        {
          "output_type": "stream",
          "name": "stdout",
          "text": [
            "[[0 1 0 1 0 1 0 1]\n",
            " [1 0 1 0 1 0 1 0]\n",
            " [0 1 0 1 0 1 0 1]\n",
            " [1 0 1 0 1 0 1 0]\n",
            " [0 1 0 1 0 1 0 1]\n",
            " [1 0 1 0 1 0 1 0]\n",
            " [0 1 0 1 0 1 0 1]\n",
            " [1 0 1 0 1 0 1 0]]\n"
          ]
        }
      ]
    },
    {
      "cell_type": "code",
      "source": [
        "#How do you find the index of a flat element in a 3D shape\n",
        "\n",
        "import numpy as np\n",
        "array = np.random.rand(3,3,3)\n",
        "index = np.unravel_index(np.argmax(array), array.shape)\n",
        "print(index)\n"
      ],
      "metadata": {
        "colab": {
          "base_uri": "https://localhost:8080/"
        },
        "id": "A0SfoaqyQ53w",
        "outputId": "e02fbcab-f66c-459b-b80c-912e2f569e27"
      },
      "execution_count": null,
      "outputs": [
        {
          "output_type": "stream",
          "name": "stdout",
          "text": [
            "(np.int64(1), np.int64(1), np.int64(1))\n"
          ]
        }
      ]
    },
    {
      "cell_type": "code",
      "source": [
        "#How do you create a checkerboard pattern using NumPy's tile function\n",
        "\n",
        "import numpy as np\n",
        "checkerboard = np.array([[0, 1], [1, 0]])\n",
        "checkerboard = np.tile(checkerboard, (4, 4))\n",
        "print(checkerboard)"
      ],
      "metadata": {
        "colab": {
          "base_uri": "https://localhost:8080/"
        },
        "id": "x0nxonnaRKq1",
        "outputId": "98f2ace7-eb38-499b-b32a-f95bbe06b392"
      },
      "execution_count": null,
      "outputs": [
        {
          "output_type": "stream",
          "name": "stdout",
          "text": [
            "[[0 1 0 1 0 1 0 1]\n",
            " [1 0 1 0 1 0 1 0]\n",
            " [0 1 0 1 0 1 0 1]\n",
            " [1 0 1 0 1 0 1 0]\n",
            " [0 1 0 1 0 1 0 1]\n",
            " [1 0 1 0 1 0 1 0]\n",
            " [0 1 0 1 0 1 0 1]\n",
            " [1 0 1 0 1 0 1 0]]\n"
          ]
        }
      ]
    },
    {
      "cell_type": "code",
      "source": [
        "#How do you normalize a matrix (values between 0 and 1)\n",
        "\n",
        "import numpy as np\n",
        "matrix = np.random.rand(5,5)\n",
        "normalized_matrix = (matrix - np.min(matrix)) / (np.max(matrix) - np.min(matrix))\n",
        "print(normalized_matrix)"
      ],
      "metadata": {
        "colab": {
          "base_uri": "https://localhost:8080/"
        },
        "id": "r7v9d6TURSAh",
        "outputId": "5f9f6af2-98ab-4c36-e8cb-4c1d762efea7"
      },
      "execution_count": null,
      "outputs": [
        {
          "output_type": "stream",
          "name": "stdout",
          "text": [
            "[[0.97547683 0.73476441 0.88395619 0.86120514 0.96639364]\n",
            " [0.52838806 0.01771476 0.         0.66856795 0.01431376]\n",
            " [0.92839078 0.56526672 0.2149387  0.30530315 0.97396328]\n",
            " [0.54541886 1.         0.89390505 0.48340088 0.98450878]\n",
            " [0.57174125 0.73018272 0.92100711 0.09344759 0.33568618]]\n"
          ]
        }
      ]
    },
    {
      "cell_type": "code",
      "source": [
        "#How do you define a custom data type for storing color (RGBA)?\n",
        "\n",
        "import numpy as np\n",
        "color = np.dtype([(\"r\", np.ubyte), (\"g\", np.ubyte), (\"b\", np.ubyte), (\"a\", np.ubyte)])\n",
        "print(color)"
      ],
      "metadata": {
        "colab": {
          "base_uri": "https://localhost:8080/"
        },
        "id": "tEFMMQhtRdf0",
        "outputId": "e1a44d84-b506-4fb2-952f-d74a30f7b900"
      },
      "execution_count": null,
      "outputs": [
        {
          "output_type": "stream",
          "name": "stdout",
          "text": [
            "[('r', 'u1'), ('g', 'u1'), ('b', 'u1'), ('a', 'u1')]\n"
          ]
        }
      ]
    },
    {
      "cell_type": "code",
      "source": [
        "#How do you perform a matrix multiplication between two matrices?\n",
        "\n",
        "import numpy as np\n",
        "matrix1 = np.array([[1, 2], [3, 4]])\n",
        "matrix2 = np.array([[5, 6], [7, 8]])\n",
        "result = np.dot(matrix1, matrix2)\n",
        "print(result)"
      ],
      "metadata": {
        "colab": {
          "base_uri": "https://localhost:8080/"
        },
        "id": "1a1qZiqQRkAt",
        "outputId": "aecb24ab-d56a-4a66-93b4-dc168235f16f"
      },
      "execution_count": null,
      "outputs": [
        {
          "output_type": "stream",
          "name": "stdout",
          "text": [
            "[[19 22]\n",
            " [43 50]]\n"
          ]
        }
      ]
    },
    {
      "cell_type": "code",
      "source": [
        "#How do you negate values between two given numbers in a vector\n",
        "\n",
        "import numpy as np\n",
        "vector = np.arange(10)\n",
        "vector[(vector >= 3) & (vector <= 7)] *= -1\n",
        "print(vector)"
      ],
      "metadata": {
        "colab": {
          "base_uri": "https://localhost:8080/"
        },
        "id": "6vgnHyuyRsnI",
        "outputId": "f673629f-e1ca-4e42-967f-6d862254c280"
      },
      "execution_count": null,
      "outputs": [
        {
          "output_type": "stream",
          "name": "stdout",
          "text": [
            "[ 0  1  2 -3 -4 -5 -6 -7  8  9]\n"
          ]
        }
      ]
    },
    {
      "cell_type": "code",
      "source": [
        "#What is the output of sum(range(5), -1) vs np.sum(range(5), -1)\n",
        "\n",
        "import numpy as np\n",
        "print(sum(range(5), -1))\n",
        "print(np.sum(range(5), -1))"
      ],
      "metadata": {
        "colab": {
          "base_uri": "https://localhost:8080/"
        },
        "id": "Mt2cTNFZR0j-",
        "outputId": "658689bd-4356-4104-b2f2-a7897f26c5d1"
      },
      "execution_count": null,
      "outputs": [
        {
          "output_type": "stream",
          "name": "stdout",
          "text": [
            "9\n",
            "10\n"
          ]
        }
      ]
    },
    {
      "cell_type": "code",
      "source": [
        "#Which NumPy vector operations are legal or illegal\n",
        "\n",
        "import numpy as np\n",
        "\n",
        "a = np.array([1, 2, 3])\n",
        "b = np.array([4, 5, 6])\n",
        "\n",
        "print(a + b)   # ✅ legal\n",
        "print(a * b)   # ✅ legal\n",
        "\n"
      ],
      "metadata": {
        "colab": {
          "base_uri": "https://localhost:8080/"
        },
        "id": "kBoau_AAR91T",
        "outputId": "fe454035-ce75-4127-91b5-b76fc8ed8e90"
      },
      "execution_count": null,
      "outputs": [
        {
          "output_type": "stream",
          "name": "stdout",
          "text": [
            "[5 7 9]\n",
            "[ 4 10 18]\n"
          ]
        }
      ]
    },
    {
      "cell_type": "code",
      "source": [
        "#What happens when you divide integers or floats by zero in NumPy\n",
        "\n",
        "import numpy as np\n",
        "\n",
        "a = np.array([1, 2, 3])\n",
        "b = np.array([0, 0, 0])\n",
        "\n",
        "print(a // b)   # integer division\n"
      ],
      "metadata": {
        "colab": {
          "base_uri": "https://localhost:8080/"
        },
        "id": "UFApKCwCSZKz",
        "outputId": "02a72201-200d-48d0-b333-c7b7d433c4c3"
      },
      "execution_count": null,
      "outputs": [
        {
          "output_type": "stream",
          "name": "stdout",
          "text": [
            "[0 0 0]\n"
          ]
        },
        {
          "output_type": "stream",
          "name": "stderr",
          "text": [
            "/tmp/ipython-input-3232723593.py:8: RuntimeWarning: divide by zero encountered in floor_divide\n",
            "  print(a // b)   # integer division\n"
          ]
        }
      ]
    },
    {
      "cell_type": "code",
      "source": [
        "#How do you round a float array away from zero\n",
        "\n",
        "import numpy as np\n",
        "\n",
        "a = np.array([1.2, -1.2, 1.7, -1.7])\n",
        "\n",
        "rounded = np.copysign(np.ceil(np.abs(a)), a)\n",
        "print(rounded)\n"
      ],
      "metadata": {
        "colab": {
          "base_uri": "https://localhost:8080/"
        },
        "id": "Kbqjgw1MSkvW",
        "outputId": "2d9f6528-4747-4ed8-e3ff-4b0d431914de"
      },
      "execution_count": null,
      "outputs": [
        {
          "output_type": "stream",
          "name": "stdout",
          "text": [
            "[ 2. -2.  2. -2.]\n"
          ]
        }
      ]
    },
    {
      "cell_type": "code",
      "source": [
        "#How do you extract the integer part of a float using multiple methods\n",
        "\n",
        "import numpy as np\n",
        "\n",
        "a = np.array([1.7, -2.9, 3.5, -4.1])\n"
      ],
      "metadata": {
        "id": "TRjfWrYTSvc2"
      },
      "execution_count": null,
      "outputs": []
    },
    {
      "cell_type": "code",
      "source": [
        "np.trunc(a)\n"
      ],
      "metadata": {
        "colab": {
          "base_uri": "https://localhost:8080/"
        },
        "id": "dSoRYzbCS62r",
        "outputId": "db2f10c9-167f-4fa7-a21d-596322ed6b22"
      },
      "execution_count": null,
      "outputs": [
        {
          "output_type": "execute_result",
          "data": {
            "text/plain": [
              "array([ 1., -2.,  3., -4.])"
            ]
          },
          "metadata": {},
          "execution_count": 13
        }
      ]
    },
    {
      "cell_type": "code",
      "source": [
        "np.floor(a)\n"
      ],
      "metadata": {
        "colab": {
          "base_uri": "https://localhost:8080/"
        },
        "id": "Gc9oBGSyS81j",
        "outputId": "f4e0d1cb-e3dd-481a-91da-e5100c2fab5f"
      },
      "execution_count": null,
      "outputs": [
        {
          "output_type": "execute_result",
          "data": {
            "text/plain": [
              "array([ 1., -3.,  3., -5.])"
            ]
          },
          "metadata": {},
          "execution_count": 14
        }
      ]
    },
    {
      "cell_type": "code",
      "source": [
        "#How do you create a 5x5 matrix with row values ranging from 0 to 4\n",
        "\n",
        "import numpy as np\n",
        "\n",
        "matrix = np.tile(np.arange(5), (5, 1))\n",
        "print(matrix)\n"
      ],
      "metadata": {
        "colab": {
          "base_uri": "https://localhost:8080/"
        },
        "id": "yJqepvYNS_Ag",
        "outputId": "2ee33d84-4e35-4d84-cb29-59796d205768"
      },
      "execution_count": null,
      "outputs": [
        {
          "output_type": "stream",
          "name": "stdout",
          "text": [
            "[[0 1 2 3 4]\n",
            " [0 1 2 3 4]\n",
            " [0 1 2 3 4]\n",
            " [0 1 2 3 4]\n",
            " [0 1 2 3 4]]\n"
          ]
        }
      ]
    },
    {
      "cell_type": "code",
      "source": [
        "#.How do you use a generator to create a NumPy array\n",
        "\n",
        "import numpy as np\n",
        "\n",
        "gen = (i for i in range(10))\n",
        "\n",
        "arr = np.fromiter(gen, dtype=int)\n",
        "\n",
        "print(arr)\n"
      ],
      "metadata": {
        "colab": {
          "base_uri": "https://localhost:8080/"
        },
        "id": "mqmeAvLwTJKT",
        "outputId": "9ec7d64d-b20d-4dec-d23a-18c80ca9907a"
      },
      "execution_count": null,
      "outputs": [
        {
          "output_type": "stream",
          "name": "stdout",
          "text": [
            "[0 1 2 3 4 5 6 7 8 9]\n"
          ]
        }
      ]
    },
    {
      "cell_type": "code",
      "source": [
        "#How do you create an array with evenly spaced values between 0 and 1 (excluded)\n",
        "\n",
        "import numpy as np\n",
        "\n",
        "arr = np.linspace(0, 1, num=6, endpoint=False)[1:]\n",
        "print(arr)\n"
      ],
      "metadata": {
        "colab": {
          "base_uri": "https://localhost:8080/"
        },
        "id": "IKwDtyI8TRy1",
        "outputId": "e4bf7df9-7829-46b4-cda9-f696af4049bd"
      },
      "execution_count": null,
      "outputs": [
        {
          "output_type": "stream",
          "name": "stdout",
          "text": [
            "[0.16666667 0.33333333 0.5        0.66666667 0.83333333]\n"
          ]
        }
      ]
    },
    {
      "cell_type": "code",
      "source": [
        "#How do you sort a random array\n",
        "\n",
        "import numpy as np\n",
        "\n",
        "arr = np.random.randint(1, 100, size=10)\n",
        "print(\"Original array:\", arr)\n"
      ],
      "metadata": {
        "colab": {
          "base_uri": "https://localhost:8080/"
        },
        "id": "r-elHuViTh0y",
        "outputId": "ba4a0ead-582e-46e8-dfb8-156329dd9731"
      },
      "execution_count": null,
      "outputs": [
        {
          "output_type": "stream",
          "name": "stdout",
          "text": [
            "Original array: [ 4 80  7  6 80 75 17 77 36 80]\n"
          ]
        }
      ]
    },
    {
      "cell_type": "code",
      "source": [
        "#How do you sum an array faster than using np.sum\n",
        "\n",
        "import numpy as np\n",
        "\n",
        "arr = np.random.rand(10_000_000)\n",
        "\n",
        "arr.sum()\n"
      ],
      "metadata": {
        "colab": {
          "base_uri": "https://localhost:8080/"
        },
        "id": "XqDQ08yETsDi",
        "outputId": "2b3dc416-b7df-49a8-9798-7851b0764323"
      },
      "execution_count": null,
      "outputs": [
        {
          "output_type": "execute_result",
          "data": {
            "text/plain": [
              "np.float64(4999531.402540887)"
            ]
          },
          "metadata": {},
          "execution_count": 19
        }
      ]
    },
    {
      "cell_type": "code",
      "source": [
        "#How do you check if two arrays are equal\n",
        "\n",
        "import numpy as np\n",
        "\n",
        "a = np.array([1, 2, 3])\n",
        "b = np.array([1, 2, 4])\n",
        "\n",
        "print(a == b)\n"
      ],
      "metadata": {
        "colab": {
          "base_uri": "https://localhost:8080/"
        },
        "id": "Zli4A2fTT0Kg",
        "outputId": "0771565e-33e6-4b1a-b393-db08ec826ba6"
      },
      "execution_count": null,
      "outputs": [
        {
          "output_type": "stream",
          "name": "stdout",
          "text": [
            "[ True  True False]\n"
          ]
        }
      ]
    },
    {
      "cell_type": "code",
      "source": [
        "#How do you make a NumPy array read-only\n",
        "\n",
        "import numpy as np\n",
        "\n",
        "arr = np.arange(10)\n",
        "print(arr)\n"
      ],
      "metadata": {
        "colab": {
          "base_uri": "https://localhost:8080/"
        },
        "id": "dtaScd5UT6uc",
        "outputId": "bd833a37-de5d-49f9-b255-c5dbe2f589bc"
      },
      "execution_count": null,
      "outputs": [
        {
          "output_type": "stream",
          "name": "stdout",
          "text": [
            "[0 1 2 3 4 5 6 7 8 9]\n"
          ]
        }
      ]
    },
    {
      "cell_type": "code",
      "source": [
        "#How do you convert Cartesian coordinates to polar coordinates\n",
        "\n",
        "import numpy as np\n",
        "\n",
        "x = np.array([1, 0, -1])\n",
        "y = np.array([0, 1, 1])\n",
        "\n",
        "r = np.sqrt(x**2 + y**2)\n",
        "theta = np.arctan2(y, x)\n",
        "print(\"r =\", r)\n",
        "print(\"theta (radians) =\", theta)\n",
        "print(\"theta (degrees) =\", np.degrees(theta))\n"
      ],
      "metadata": {
        "colab": {
          "base_uri": "https://localhost:8080/"
        },
        "id": "Pb53gghKUC9u",
        "outputId": "0ffa043e-e4fb-4019-d14a-95d2dae2c9b4"
      },
      "execution_count": null,
      "outputs": [
        {
          "output_type": "stream",
          "name": "stdout",
          "text": [
            "r = [1.         1.         1.41421356]\n",
            "theta (radians) = [0.         1.57079633 2.35619449]\n",
            "theta (degrees) = [  0.  90. 135.]\n"
          ]
        }
      ]
    },
    {
      "cell_type": "code",
      "source": [
        "#How do you replace the maximum value in an array with zero\n",
        "\n",
        "import numpy as np\n",
        "\n",
        "arr = np.array([3, 7, 2, 9, 5])\n",
        "print(\"Original:\", arr)\n",
        "\n",
        "arr[arr == arr.max()] = 0\n",
        "print(\"Modified:\", arr)\n"
      ],
      "metadata": {
        "colab": {
          "base_uri": "https://localhost:8080/"
        },
        "id": "Qz9f-sEwURnv",
        "outputId": "29b9dd78-16a2-4d09-b312-9b886e75420c"
      },
      "execution_count": null,
      "outputs": [
        {
          "output_type": "stream",
          "name": "stdout",
          "text": [
            "Original: [3 7 2 9 5]\n",
            "Modified: [3 7 2 0 5]\n"
          ]
        }
      ]
    },
    {
      "cell_type": "code",
      "source": [
        "#How do you create a structured array for (x, y) coordinate pairs\n",
        "\n",
        "import numpy as np\n",
        "\n",
        "coord_dtype = np.dtype([('x', float), ('y', float)])\n"
      ],
      "metadata": {
        "id": "pz_VU5PSUXhK"
      },
      "execution_count": null,
      "outputs": []
    },
    {
      "cell_type": "code",
      "source": [
        "points = np.array([(1.0, 2.0), (3.5, 4.2), (5.1, 7.3)], dtype=coord_dtype)\n",
        "print(points)\n"
      ],
      "metadata": {
        "colab": {
          "base_uri": "https://localhost:8080/"
        },
        "id": "oJj5wfgYUg0C",
        "outputId": "fcd11eee-dfb2-4096-b75e-2ea623c3f7db"
      },
      "execution_count": null,
      "outputs": [
        {
          "output_type": "stream",
          "name": "stdout",
          "text": [
            "[(1. , 2. ) (3.5, 4.2) (5.1, 7.3)]\n"
          ]
        }
      ]
    },
    {
      "cell_type": "code",
      "source": [
        "print(points['x'])\n",
        "print(points['y'])\n"
      ],
      "metadata": {
        "colab": {
          "base_uri": "https://localhost:8080/"
        },
        "id": "r8QHg086UksR",
        "outputId": "d1da2876-2c9a-42e8-cbc2-2d27a71b7934"
      },
      "execution_count": null,
      "outputs": [
        {
          "output_type": "stream",
          "name": "stdout",
          "text": [
            "[1.  3.5 5.1]\n",
            "[2.  4.2 7.3]\n"
          ]
        }
      ]
    },
    {
      "cell_type": "code",
      "source": [
        "points['x'] += 10\n",
        "print(points)\n"
      ],
      "metadata": {
        "colab": {
          "base_uri": "https://localhost:8080/"
        },
        "id": "s-D3J3VnUnad",
        "outputId": "abef533a-c6bd-4724-937a-21593abfc048"
      },
      "execution_count": null,
      "outputs": [
        {
          "output_type": "stream",
          "name": "stdout",
          "text": [
            "[(11. , 2. ) (13.5, 4.2) (15.1, 7.3)]\n"
          ]
        }
      ]
    },
    {
      "cell_type": "code",
      "source": [
        "#How do you create a Cauchy matrix using two arrays\n",
        "\n",
        "import numpy as np\n",
        "\n",
        "x = np.array([1, 2, 3])\n",
        "y = np.array([4, 5, 6])\n",
        "\n",
        "C = 1.0 / (x[:, np.newaxis] - y)\n",
        "print(C)"
      ],
      "metadata": {
        "colab": {
          "base_uri": "https://localhost:8080/"
        },
        "id": "tYUhVWo3UqI2",
        "outputId": "15cafb94-9d4e-4ecd-8e7a-4db9441f2c67"
      },
      "execution_count": null,
      "outputs": [
        {
          "output_type": "stream",
          "name": "stdout",
          "text": [
            "[[-0.33333333 -0.25       -0.2       ]\n",
            " [-0.5        -0.33333333 -0.25      ]\n",
            " [-1.         -0.5        -0.33333333]]\n"
          ]
        }
      ]
    },
    {
      "cell_type": "code",
      "source": [
        "#How do you find the range of values for each NumPy scalar type\n",
        "\n",
        "import numpy as np\n",
        "\n",
        "info = np.iinfo(np.int32)\n",
        "print(\"int32 range:\", info.min, \"to\", info.max)\n"
      ],
      "metadata": {
        "colab": {
          "base_uri": "https://localhost:8080/"
        },
        "id": "rurCT0aKU4bS",
        "outputId": "1dc31b35-48f6-4ec7-f092-fb890f95dde1"
      },
      "execution_count": null,
      "outputs": [
        {
          "output_type": "stream",
          "name": "stdout",
          "text": [
            "int32 range: -2147483648 to 2147483647\n"
          ]
        }
      ]
    },
    {
      "cell_type": "code",
      "source": [
        "#How do you display all values in a large array\n",
        "\n",
        "import numpy as np\n",
        "\n",
        "arr = np.arange(100)\n",
        "print(arr)\n"
      ],
      "metadata": {
        "colab": {
          "base_uri": "https://localhost:8080/"
        },
        "id": "xgHxMiVEVJnb",
        "outputId": "68f27bdb-0ec2-4a02-e279-ee4dbadbbcfc"
      },
      "execution_count": null,
      "outputs": [
        {
          "output_type": "stream",
          "name": "stdout",
          "text": [
            "[ 0  1  2  3  4  5  6  7  8  9 10 11 12 13 14 15 16 17 18 19 20 21 22 23\n",
            " 24 25 26 27 28 29 30 31 32 33 34 35 36 37 38 39 40 41 42 43 44 45 46 47\n",
            " 48 49 50 51 52 53 54 55 56 57 58 59 60 61 62 63 64 65 66 67 68 69 70 71\n",
            " 72 73 74 75 76 77 78 79 80 81 82 83 84 85 86 87 88 89 90 91 92 93 94 95\n",
            " 96 97 98 99]\n"
          ]
        }
      ]
    },
    {
      "cell_type": "code",
      "source": [
        "#How do you find the closest value to a given scalar in an array\n",
        "\n",
        "import numpy as np\n",
        "\n",
        "arr = np.array([10, 22, 14, 3, 7])\n",
        "value = 12\n",
        "\n",
        "closest = arr[np.abs(arr - value).argmin()]\n",
        "print(\"Closest value:\", closest)\n"
      ],
      "metadata": {
        "colab": {
          "base_uri": "https://localhost:8080/"
        },
        "id": "YXhmPWJqVRgp",
        "outputId": "49b0ae1c-60ea-4420-e87b-b0df94676bb1"
      },
      "execution_count": null,
      "outputs": [
        {
          "output_type": "stream",
          "name": "stdout",
          "text": [
            "Closest value: 10\n"
          ]
        }
      ]
    },
    {
      "cell_type": "code",
      "source": [
        "#How do you create a structured array with position and color fields\n",
        "\n",
        "import numpy as np\n",
        "\n",
        "dtype = np.dtype([\n",
        "    ('position', float, 3),\n",
        "    ('color', float, 4)\n",
        "])\n"
      ],
      "metadata": {
        "id": "f76oMQgvVZYH"
      },
      "execution_count": null,
      "outputs": []
    },
    {
      "cell_type": "code",
      "source": [
        "data = np.array([\n",
        "    ((1.0, 2.0, 3.0), (1.0, 0.0, 0.0, 1.0)),\n",
        "    ((4.0, 5.0, 6.0), (0.0, 1.0, 0.0, 1.0)),\n",
        "    ((7.0, 8.0, 9.0), (0.0, 0.0, 1.0, 1.0))\n",
        "], dtype=dtype)\n",
        "\n",
        "print(data)\n"
      ],
      "metadata": {
        "colab": {
          "base_uri": "https://localhost:8080/"
        },
        "id": "DOZvo-OMVjt5",
        "outputId": "a22b170d-464a-4820-c635-f86633105d88"
      },
      "execution_count": null,
      "outputs": [
        {
          "output_type": "stream",
          "name": "stdout",
          "text": [
            "[([1., 2., 3.], [1., 0., 0., 1.]) ([4., 5., 6.], [0., 1., 0., 1.])\n",
            " ([7., 8., 9.], [0., 0., 1., 1.])]\n"
          ]
        }
      ]
    },
    {
      "cell_type": "code",
      "source": [
        "#.How do you compute pairwise distances between coordinates\n",
        "\n",
        "import numpy as np\n",
        "\n",
        "points = np.array([\n",
        "    [0, 0],\n",
        "    [3, 4],\n",
        "    [6, 8]\n",
        "])"
      ],
      "metadata": {
        "id": "ANEpOur-Voqk"
      },
      "execution_count": null,
      "outputs": []
    },
    {
      "cell_type": "code",
      "source": [
        "from scipy.spatial import distance\n",
        "\n",
        "dist_matrix = distance.cdist(points, points)\n",
        "print(dist_matrix)"
      ],
      "metadata": {
        "colab": {
          "base_uri": "https://localhost:8080/"
        },
        "id": "klWAIxnGV2uC",
        "outputId": "7c4a84bc-51ac-4e7c-e154-c1fe3e138a54"
      },
      "execution_count": null,
      "outputs": [
        {
          "output_type": "stream",
          "name": "stdout",
          "text": [
            "[[ 0.  5. 10.]\n",
            " [ 5.  0.  5.]\n",
            " [10.  5.  0.]]\n"
          ]
        }
      ]
    },
    {
      "cell_type": "code",
      "source": [
        "#How do you cast a float array to integer type in place\n",
        "\n",
        "import numpy as np\n",
        "\n",
        "arr = np.array([1.2, 3.7, 5.9])\n",
        "print(arr, arr.dtype)\n"
      ],
      "metadata": {
        "colab": {
          "base_uri": "https://localhost:8080/"
        },
        "id": "gSetffTtV4xI",
        "outputId": "f83abf94-ca81-4b5a-89e5-e8a85f9f1f47"
      },
      "execution_count": null,
      "outputs": [
        {
          "output_type": "stream",
          "name": "stdout",
          "text": [
            "[1.2 3.7 5.9] float64\n"
          ]
        }
      ]
    },
    {
      "cell_type": "code",
      "source": [
        "#How do you read data from a file with missing values\n",
        "\n",
        "import numpy as np\n",
        "\n",
        "data = np.genfromtxt('data.csv', delimiter=',', missing_values='', filling_values=np.nan)\n",
        "print(data)\n"
      ],
      "metadata": {
        "colab": {
          "base_uri": "https://localhost:8080/"
        },
        "id": "D-hJQzP9WFCm",
        "outputId": "9fcf6523-f549-417b-ffc7-c1d2430e53fc"
      },
      "execution_count": null,
      "outputs": [
        {
          "output_type": "stream",
          "name": "stdout",
          "text": [
            "[[ 1.  2.  3.]\n",
            " [ 4. nan  6.]\n",
            " [ 7.  8. nan]\n",
            " [nan 10. 11.]]\n"
          ]
        }
      ]
    },
    {
      "cell_type": "code",
      "metadata": {
        "id": "8bd0db56"
      },
      "source": [
        "# Create a dummy data.csv file for demonstration\n",
        "with open('data.csv', 'w') as f:\n",
        "    f.write('1,2,3\\n')\n",
        "    f.write('4,,6\\n')\n",
        "    f.write('7,8,\\n')\n",
        "    f.write(',10,11\\n')"
      ],
      "execution_count": null,
      "outputs": []
    },
    {
      "cell_type": "code",
      "metadata": {
        "colab": {
          "base_uri": "https://localhost:8080/"
        },
        "id": "61456ff0",
        "outputId": "89db869c-8339-4319-ba28-116ef6448a14"
      },
      "source": [
        "# How do you read data from a file with missing values\n",
        "\n",
        "import numpy as np\n",
        "\n",
        "data = np.genfromtxt('data.csv', delimiter=',', missing_values='', filling_values=np.nan)\n",
        "print(data)"
      ],
      "execution_count": null,
      "outputs": [
        {
          "output_type": "stream",
          "name": "stdout",
          "text": [
            "[[ 1.  2.  3.]\n",
            " [ 4. nan  6.]\n",
            " [ 7.  8. nan]\n",
            " [nan 10. 11.]]\n"
          ]
        }
      ]
    },
    {
      "cell_type": "code",
      "source": [
        "#How do you iterate through all elements in a NumPy array with indices\n",
        "\n",
        "import numpy as np\n",
        "\n",
        "arr = np.array([[10, 20, 30],\n",
        "                [40, 50, 60]])\n",
        "\n",
        "for index, value in np.ndenumerate(arr):\n",
        "    print(index, value)\n"
      ],
      "metadata": {
        "colab": {
          "base_uri": "https://localhost:8080/"
        },
        "id": "4qxCyGKzWRg3",
        "outputId": "0f6d15ef-61a7-4d34-befc-7da9c923bae9"
      },
      "execution_count": null,
      "outputs": [
        {
          "output_type": "stream",
          "name": "stdout",
          "text": [
            "(0, 0) 10\n",
            "(0, 1) 20\n",
            "(0, 2) 30\n",
            "(1, 0) 40\n",
            "(1, 1) 50\n",
            "(1, 2) 60\n"
          ]
        }
      ]
    },
    {
      "cell_type": "code",
      "source": [
        "#How do you create a 2D Gaussian-like array\n",
        "\n",
        "import numpy as np\n",
        "\n",
        "n = 7\n",
        "sigma = 1.0\n",
        "\n",
        "x = np.linspace(-3, 3, n)\n",
        "y = np.linspace(-3, 3, n)\n",
        "x, y = np.meshgrid(x, y)\n",
        "\n",
        "gaussian = np.exp(-(x**2 + y**2) / (2 * sigma**2))\n",
        "\n",
        "gaussian /= np.max(gaussian)\n",
        "\n",
        "print(np.round(gaussian, 3))\n"
      ],
      "metadata": {
        "colab": {
          "base_uri": "https://localhost:8080/"
        },
        "id": "p09jLzt9WgUp",
        "outputId": "80126ad0-fd4c-456c-e884-e46df05ff368"
      },
      "execution_count": null,
      "outputs": [
        {
          "output_type": "stream",
          "name": "stdout",
          "text": [
            "[[0.    0.002 0.007 0.011 0.007 0.002 0.   ]\n",
            " [0.002 0.018 0.082 0.135 0.082 0.018 0.002]\n",
            " [0.007 0.082 0.368 0.607 0.368 0.082 0.007]\n",
            " [0.011 0.135 0.607 1.    0.607 0.135 0.011]\n",
            " [0.007 0.082 0.368 0.607 0.368 0.082 0.007]\n",
            " [0.002 0.018 0.082 0.135 0.082 0.018 0.002]\n",
            " [0.    0.002 0.007 0.011 0.007 0.002 0.   ]]\n"
          ]
        }
      ]
    },
    {
      "cell_type": "code",
      "source": [
        "#How do you randomly place a specific number of elements in a 2D array\n",
        "\n",
        "import numpy as np\n",
        "\n",
        "rows, cols = 5, 5\n",
        "num_elements = 5\n"
      ],
      "metadata": {
        "id": "xyfYJAvWWwhh"
      },
      "execution_count": null,
      "outputs": []
    },
    {
      "cell_type": "code",
      "source": [
        "\n",
        "arr = np.zeros((rows, cols), dtype=int)\n",
        "\n",
        "indices = np.random.choice(arr.size, num_elements, replace=False)\n",
        "\n",
        "arr.flat[indices] = 1\n",
        "\n",
        "print(arr)\n"
      ],
      "metadata": {
        "colab": {
          "base_uri": "https://localhost:8080/"
        },
        "id": "iYkgybobW5Kq",
        "outputId": "df3e0534-02a2-4ce9-9d2a-4d431a7b8298"
      },
      "execution_count": null,
      "outputs": [
        {
          "output_type": "stream",
          "name": "stdout",
          "text": [
            "[[0 1 1 0 0]\n",
            " [0 1 1 0 0]\n",
            " [0 0 0 0 0]\n",
            " [0 0 0 1 0]\n",
            " [0 0 0 0 0]]\n"
          ]
        }
      ]
    },
    {
      "cell_type": "code",
      "source": [
        "#How do you subtract the row mean from a matrix\n",
        "\n",
        "import numpy as np\n",
        "\n",
        "A = np.array([\n",
        "    [1, 2, 3],\n",
        "    [4, 5, 6],\n",
        "    [7, 8, 9]\n",
        "], dtype=float)\n"
      ],
      "metadata": {
        "id": "cnfqNIGiW-Ye"
      },
      "execution_count": null,
      "outputs": []
    },
    {
      "cell_type": "code",
      "source": [
        "A_centered = A - A.mean(axis=1, keepdims=True)\n",
        "print(A_centered)\n"
      ],
      "metadata": {
        "colab": {
          "base_uri": "https://localhost:8080/"
        },
        "id": "bonw8IgtXELI",
        "outputId": "34be7b79-7251-4d3c-8020-4494c417c0de"
      },
      "execution_count": null,
      "outputs": [
        {
          "output_type": "stream",
          "name": "stdout",
          "text": [
            "[[-1.  0.  1.]\n",
            " [-1.  0.  1.]\n",
            " [-1.  0.  1.]]\n"
          ]
        }
      ]
    },
    {
      "cell_type": "code",
      "source": [
        "# How do you sort a 2D array based on the values of one column\n",
        "\n",
        "import numpy as np\n",
        "\n",
        "arr = np.array([\n",
        "    [10, 2, 9],\n",
        "    [5, 1, 7],\n",
        "    [8, 3, 6]\n",
        "])\n",
        "\n",
        "sorted_arr = arr[arr[:, 1].argsort()]\n",
        "\n",
        "print(\"Original array:\\n\", arr)\n",
        "print(\"\\nSorted by column 1:\\n\", sorted_arr)\n"
      ],
      "metadata": {
        "id": "sjdT5mnIXGAT",
        "colab": {
          "base_uri": "https://localhost:8080/"
        },
        "outputId": "95123ed7-ea3d-40be-aad3-bf917dc63239"
      },
      "execution_count": 1,
      "outputs": [
        {
          "output_type": "stream",
          "name": "stdout",
          "text": [
            "Original array:\n",
            " [[10  2  9]\n",
            " [ 5  1  7]\n",
            " [ 8  3  6]]\n",
            "\n",
            "Sorted by column 1:\n",
            " [[ 5  1  7]\n",
            " [10  2  9]\n",
            " [ 8  3  6]]\n"
          ]
        }
      ]
    },
    {
      "cell_type": "code",
      "source": [
        "#How do you check if a 2D array contains any null (zero-only) columns\n",
        "\n",
        "import numpy as np\n",
        "\n",
        "arr = np.array([\n",
        "    [0, 2, 0],\n",
        "    [0, 3, 0],\n",
        "    [0, 4, 0]\n",
        "])\n",
        "null_columns = np.all(arr == 0, axis=0)\n",
        "\n",
        "print(\"Zero-only columns mask:\", null_columns)\n",
        "print(\"Any zero-only columns present?:\", np.any(null_columns))\n"
      ],
      "metadata": {
        "colab": {
          "base_uri": "https://localhost:8080/"
        },
        "id": "sx97t9nJG1IE",
        "outputId": "b7ebff44-f449-413e-f377-bd78c885f38a"
      },
      "execution_count": 2,
      "outputs": [
        {
          "output_type": "stream",
          "name": "stdout",
          "text": [
            "Zero-only columns mask: [ True False  True]\n",
            "Any zero-only columns present?: True\n"
          ]
        }
      ]
    },
    {
      "cell_type": "code",
      "source": [
        "#How do you find the nearest value to a given number in a NumPy array\n",
        "\n",
        "import numpy as np\n",
        "\n",
        "arr = np.array([3.5, 8.2, 1.7, 6.4, 9.9])\n",
        "\n",
        "target = 7.0\n",
        "\n",
        "nearest_value = arr[np.abs(arr - target).argmin()]\n",
        "\n",
        "print(\"Array:\", arr)\n",
        "print(\"Target:\", target)\n",
        "print(\"Nearest value:\", nearest_value)\n"
      ],
      "metadata": {
        "colab": {
          "base_uri": "https://localhost:8080/"
        },
        "id": "ZAA3q6_KHDlN",
        "outputId": "2b6185b6-31ee-48e5-9401-5ef8159b06bc"
      },
      "execution_count": 3,
      "outputs": [
        {
          "output_type": "stream",
          "name": "stdout",
          "text": [
            "Array: [3.5 8.2 1.7 6.4 9.9]\n",
            "Target: 7.0\n",
            "Nearest value: 6.4\n"
          ]
        }
      ]
    },
    {
      "cell_type": "code",
      "source": [
        "#How do you create a NumPy subclass with custom attributes\n",
        "\n",
        "import numpy as np\n",
        "\n",
        "class MyArray(np.ndarray):\n",
        "    def __new__(cls, input_array, info=None):\n",
        "        obj = np.asarray(input_array).view(cls)\n",
        "        obj.info = info\n",
        "        return obj\n",
        "\n",
        "    def __array_finalize__(self, obj):\n",
        "\n",
        "        if obj is None: return\n",
        "        self.info = getattr(obj, 'info', None)\n",
        "\n",
        "arr = MyArray([1, 2, 3, 4, 5], info=\"My custom data\")\n",
        "\n",
        "print(\"Array:\", arr)\n",
        "print(\"Type:\", type(arr))\n",
        "print(\"Custom attribute:\", arr.info)\n"
      ],
      "metadata": {
        "colab": {
          "base_uri": "https://localhost:8080/"
        },
        "id": "abyq3Le0HNuA",
        "outputId": "a144dbf6-c5ed-476b-b634-42da10ab530d"
      },
      "execution_count": 4,
      "outputs": [
        {
          "output_type": "stream",
          "name": "stdout",
          "text": [
            "Array: [1 2 3 4 5]\n",
            "Type: <class '__main__.MyArray'>\n",
            "Custom attribute: My custom data\n"
          ]
        }
      ]
    },
    {
      "cell_type": "code",
      "source": [
        "#How do you increment elements in an array using an index array with repeats\n",
        "\n",
        "import numpy as np\n",
        "\n",
        "arr = np.zeros(5, dtype=int)\n",
        "\n",
        "idx = np.array([0, 1, 1, 2, 2, 2, 4])\n",
        "\n",
        "np.add.at(arr, idx, 1)\n",
        "\n",
        "print(arr)\n"
      ],
      "metadata": {
        "colab": {
          "base_uri": "https://localhost:8080/"
        },
        "id": "wA4QahjpHbFF",
        "outputId": "71d5aee1-3d89-4b72-f184-235733030fbe"
      },
      "execution_count": 5,
      "outputs": [
        {
          "output_type": "stream",
          "name": "stdout",
          "text": [
            "[1 2 3 0 1]\n"
          ]
        }
      ]
    },
    {
      "cell_type": "code",
      "source": [
        "#How do you accumulate values into an array based on indices\n",
        "\n",
        "import numpy as np\n",
        "\n",
        "indices = np.array([0, 1, 1, 2, 2, 2, 4])\n",
        "\n",
        "values = np.array([10, 20, 30, 40, 50, 60, 70])\n",
        "\n",
        "result = np.zeros(5, dtype=int)\n",
        "\n",
        "np.add.at(result, indices, values)\n",
        "\n",
        "print(\"Accumulated result:\", result)\n"
      ],
      "metadata": {
        "colab": {
          "base_uri": "https://localhost:8080/"
        },
        "id": "Q08apiOUHmif",
        "outputId": "62def6fd-1246-49e4-bf31-19773b1bb154"
      },
      "execution_count": 6,
      "outputs": [
        {
          "output_type": "stream",
          "name": "stdout",
          "text": [
            "Accumulated result: [ 10  50 150   0  70]\n"
          ]
        }
      ]
    },
    {
      "cell_type": "code",
      "source": [
        "#How do you count unique colors in a 3D image array\n",
        "\n",
        "import numpy as np\n",
        "\n",
        "img = np.array([\n",
        "    [[255, 0, 0], [0, 255, 0], [0, 0, 255]],\n",
        "    [[255, 0, 0], [255, 0, 0], [0, 255, 0]],\n",
        "    [[0, 0, 255], [0, 0, 255], [255, 255, 255]]\n",
        "], dtype=np.uint8)\n",
        "\n",
        "pixels = img.reshape(-1, 3)\n",
        "\n",
        "unique_colors = np.unique(pixels, axis=0)\n",
        "\n",
        "print(\"Unique colors:\\n\", unique_colors)\n",
        "print(\"Number of unique colors:\", len(unique_colors))\n"
      ],
      "metadata": {
        "colab": {
          "base_uri": "https://localhost:8080/"
        },
        "id": "qiXOEcLzHxrx",
        "outputId": "c3080e81-1fd4-4697-b423-534f3d83e4e6"
      },
      "execution_count": 7,
      "outputs": [
        {
          "output_type": "stream",
          "name": "stdout",
          "text": [
            "Unique colors:\n",
            " [[  0   0 255]\n",
            " [  0 255   0]\n",
            " [255   0   0]\n",
            " [255 255 255]]\n",
            "Number of unique colors: 4\n"
          ]
        }
      ]
    },
    {
      "cell_type": "code",
      "source": [
        "#How do you compute the sum across the last two axes of a 4D array\n",
        "\n",
        "import numpy as np\n",
        "\n",
        "arr = np.random.rand(2, 3, 4, 5)\n",
        "\n",
        "result = np.sum(arr, axis=(-2, -1))\n",
        "\n",
        "print(\"Original shape:\", arr.shape)\n",
        "print(\"Result shape:\", result.shape)\n"
      ],
      "metadata": {
        "colab": {
          "base_uri": "https://localhost:8080/"
        },
        "id": "aNXNVsoeH7rD",
        "outputId": "56e324fb-e01c-4743-b0ba-93d8bea6e9db"
      },
      "execution_count": 8,
      "outputs": [
        {
          "output_type": "stream",
          "name": "stdout",
          "text": [
            "Original shape: (2, 3, 4, 5)\n",
            "Result shape: (2, 3)\n"
          ]
        }
      ]
    },
    {
      "cell_type": "code",
      "source": [
        "#How do you calculate means of grouped values in an array\n",
        "\n",
        "import numpy as np\n",
        "groups = np.array([0, 1, 0, 1, 2, 2, 2])\n",
        "\n",
        "values = np.array([10, 20, 30, 40, 50, 60, 70])\n"
      ],
      "metadata": {
        "id": "FE_QrJWuIGb5"
      },
      "execution_count": 9,
      "outputs": []
    },
    {
      "cell_type": "code",
      "source": [
        "sum_per_group = np.bincount(groups, weights=values)\n",
        "count_per_group = np.bincount(groups)\n",
        "\n",
        "mean_per_group = sum_per_group / count_per_group\n",
        "print(mean_per_group)\n"
      ],
      "metadata": {
        "colab": {
          "base_uri": "https://localhost:8080/"
        },
        "id": "F-CXdI5EIQKi",
        "outputId": "977ea4c1-456c-490f-a6bc-742acb7aac5c"
      },
      "execution_count": 10,
      "outputs": [
        {
          "output_type": "stream",
          "name": "stdout",
          "text": [
            "[20. 30. 60.]\n"
          ]
        }
      ]
    },
    {
      "cell_type": "code",
      "source": [
        "#How do you efficiently get the diagonal of a matrix dot product\n",
        "\n",
        "import numpy as np\n",
        "\n",
        "A = np.random.rand(1000, 500)\n",
        "B = np.random.rand(500, 1000)\n",
        "\n",
        "diag_AB = np.sum(A * B.T, axis=1)\n"
      ],
      "metadata": {
        "id": "k_D6z2MEIUFU"
      },
      "execution_count": 11,
      "outputs": []
    },
    {
      "cell_type": "code",
      "source": [
        "A = np.random.rand(3, 3)\n",
        "B = np.random.rand(3, 3)\n",
        "\n",
        "diag_full = np.diag(A @ B)\n",
        "diag_fast = np.sum(A * B.T, axis=1)\n",
        "\n",
        "print(\"Full method:\", diag_full)\n",
        "print(\"Efficient method:\", diag_fast)\n"
      ],
      "metadata": {
        "colab": {
          "base_uri": "https://localhost:8080/"
        },
        "id": "Fo7eQzrVIfk6",
        "outputId": "ff081732-9e66-49ee-cfd1-58e195adce72"
      },
      "execution_count": 12,
      "outputs": [
        {
          "output_type": "stream",
          "name": "stdout",
          "text": [
            "Full method: [0.97370804 1.43345021 0.96670951]\n",
            "Efficient method: [0.97370804 1.43345021 0.96670951]\n"
          ]
        }
      ]
    },
    {
      "cell_type": "code",
      "source": [],
      "metadata": {
        "id": "cv7trpLmIjsV"
      },
      "execution_count": null,
      "outputs": []
    }
  ],
  "metadata": {
    "colab": {
      "provenance": [],
      "authorship_tag": "ABX9TyOJDzZ7Y/X1yk+h81bjB0/5",
      "include_colab_link": true
    },
    "kernelspec": {
      "display_name": "Python 3",
      "name": "python3"
    },
    "language_info": {
      "name": "python"
    }
  },
  "nbformat": 4,
  "nbformat_minor": 0
}